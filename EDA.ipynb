{
 "cells": [
  {
   "cell_type": "markdown",
   "id": "74008799-dd60-4d2a-958d-7e8883300847",
   "metadata": {},
   "source": [
    "# Import Libraries"
   ]
  },
  {
   "cell_type": "code",
   "execution_count": 3,
   "id": "caf14998-9a81-4d4b-95db-5ea959b34119",
   "metadata": {},
   "outputs": [],
   "source": [
    "# python\n",
    "import pickle\n",
    "from functools import partial\n",
    "\n",
    "# basics\n",
    "import numpy as np\n",
    "import pandas as pd\n",
    "import scipy.stats as stats\n",
    "\n",
    "# graphing\n",
    "import matplotlib.pyplot as plt\n",
    "import seaborn as sns\n",
    "import plotly.express as px\n",
    "\n",
    "# preprocessing\n",
    "from sklearn.preprocessing import PolynomialFeatures, StandardScaler, MinMaxScaler, OneHotEncoder\n",
    "from sklearn.dummy import DummyClassifier\n",
    "# feature selection\n",
    "from sklearn.feature_selection import chi2, SelectPercentile, SelectKBest\n",
    "\n",
    "# model selection\n",
    "from sklearn.model_selection import train_test_split, KFold, GridSearchCV, cross_val_score\n",
    "from sklearn.metrics import (r2_score, mean_squared_error, accuracy_score, precision_score, recall_score,\n",
    "                             f1_score, roc_auc_score, roc_curve, precision_recall_curve, make_scorer,\n",
    "                             confusion_matrix, multilabel_confusion_matrix, ConfusionMatrixDisplay)\n",
    "\n",
    "# models\n",
    "from sklearn.neighbors import KNeighborsClassifier, KNeighborsRegressor\n",
    "from sklearn.linear_model import LinearRegression, Lasso, Ridge, ElasticNet, LogisticRegression\n",
    "from sklearn.tree import DecisionTreeClassifier, DecisionTreeRegressor\n",
    "from sklearn.ensemble import RandomForestClassifier, RandomForestRegressor\n",
    "from xgboost import XGBClassifier, XGBRegressor\n",
    "import xgboost as xgb\n",
    "# model explainability\n",
    "import shap\n",
    "\n",
    "# enable reload of changed files\n",
    "%reload_ext autoreload\n",
    "%autoreload 2\n",
    "\n",
    "# plot inline\n",
    "%matplotlib inline\n",
    "\n",
    "# make it pretty\n",
    "from rich.console import Console\n",
    "from rich import inspect\n",
    "con = Console()\n",
    "ins = partial(inspect, methods=True)\n",
    "%reload_ext rich\n",
    "from sklearn.compose import ColumnTransformer\n",
    "from sklearn.pipeline import Pipeline\n",
    "\n",
    "from sklearn.base import BaseEstimator, TransformerMixin\n",
    "from sklearn.utils.validation import check_is_fitted\n",
    "from sklearn.pipeline import Pipeline\n",
    "from sklearn.compose import ColumnTransformer\n",
    "from sklearn.impute import SimpleImputer\n",
    "from sklearn.preprocessing import OneHotEncoder, StandardScaler, RobustScaler, OrdinalEncoder, FunctionTransformer\n",
    "from sklearn.preprocessing import PolynomialFeatures, MinMaxScaler\n",
    "from sklearn.datasets import make_classification\n",
    "from sklearn.metrics import plot_confusion_matrix\n",
    "from sklearn.model_selection import train_test_split\n",
    "from sklearn.svm import SVC\n",
    "from sklearn.metrics import (precision_recall_curve,PrecisionRecallDisplay)"
   ]
  },
  {
   "cell_type": "markdown",
   "id": "3accfbf6-259a-475e-a4cf-0a90c6dcf011",
   "metadata": {},
   "source": [
    "# Reading Data"
   ]
  },
  {
   "cell_type": "code",
   "execution_count": 4,
   "id": "1d72188b-8ab2-40e1-8a22-84d56a13eeb5",
   "metadata": {},
   "outputs": [
    {
     "name": "stderr",
     "output_type": "stream",
     "text": [
      "Columns (25) have mixed types.Specify dtype option on import or set low_memory=False.\n"
     ]
    },
    {
     "data": {
      "text/html": [
       "<div>\n",
       "<style scoped>\n",
       "    .dataframe tbody tr th:only-of-type {\n",
       "        vertical-align: middle;\n",
       "    }\n",
       "\n",
       "    .dataframe tbody tr th {\n",
       "        vertical-align: top;\n",
       "    }\n",
       "\n",
       "    .dataframe thead th {\n",
       "        text-align: right;\n",
       "    }\n",
       "</style>\n",
       "<table border=\"1\" class=\"dataframe\">\n",
       "  <thead>\n",
       "    <tr style=\"text-align: right;\">\n",
       "      <th></th>\n",
       "      <th>clanodo</th>\n",
       "      <th>fecha</th>\n",
       "      <th>fecha_h</th>\n",
       "      <th>festivo</th>\n",
       "      <th>mes</th>\n",
       "      <th>diaSemana</th>\n",
       "      <th>hora</th>\n",
       "      <th>mda</th>\n",
       "      <th>mtr</th>\n",
       "      <th>mda7</th>\n",
       "      <th>...</th>\n",
       "      <th>mda52</th>\n",
       "      <th>mtr52</th>\n",
       "      <th>ypast52</th>\n",
       "      <th>festivo52</th>\n",
       "      <th>ypast3avg</th>\n",
       "      <th>eolica</th>\n",
       "      <th>fotovol</th>\n",
       "      <th>demanda</th>\n",
       "      <th>temperatura</th>\n",
       "      <th>hsc</th>\n",
       "    </tr>\n",
       "  </thead>\n",
       "  <tbody>\n",
       "    <tr>\n",
       "      <th>0</th>\n",
       "      <td>03DEC-230</td>\n",
       "      <td>01/01/2020</td>\n",
       "      <td>01/01/2020 01:00</td>\n",
       "      <td>0</td>\n",
       "      <td>1</td>\n",
       "      <td>3</td>\n",
       "      <td>1</td>\n",
       "      <td>366.98</td>\n",
       "      <td>360.98</td>\n",
       "      <td>412.31</td>\n",
       "      <td>...</td>\n",
       "      <td>546.67</td>\n",
       "      <td>571.09</td>\n",
       "      <td>1</td>\n",
       "      <td>0</td>\n",
       "      <td>0.333333</td>\n",
       "      <td>1893.677</td>\n",
       "      <td>0.0</td>\n",
       "      <td>514.389</td>\n",
       "      <td>12.0</td>\n",
       "      <td>1.9</td>\n",
       "    </tr>\n",
       "    <tr>\n",
       "      <th>1</th>\n",
       "      <td>03DEC-230</td>\n",
       "      <td>01/01/2020</td>\n",
       "      <td>01/01/2020 02:00</td>\n",
       "      <td>0</td>\n",
       "      <td>1</td>\n",
       "      <td>3</td>\n",
       "      <td>2</td>\n",
       "      <td>341.85</td>\n",
       "      <td>360.74</td>\n",
       "      <td>369.05</td>\n",
       "      <td>...</td>\n",
       "      <td>524.58</td>\n",
       "      <td>550.46</td>\n",
       "      <td>1</td>\n",
       "      <td>0</td>\n",
       "      <td>0.666667</td>\n",
       "      <td>1816.833</td>\n",
       "      <td>0.0</td>\n",
       "      <td>500.955</td>\n",
       "      <td>12.0</td>\n",
       "      <td>1.9</td>\n",
       "    </tr>\n",
       "    <tr>\n",
       "      <th>2</th>\n",
       "      <td>03DEC-230</td>\n",
       "      <td>01/01/2020</td>\n",
       "      <td>01/01/2020 03:00</td>\n",
       "      <td>0</td>\n",
       "      <td>1</td>\n",
       "      <td>3</td>\n",
       "      <td>3</td>\n",
       "      <td>322.58</td>\n",
       "      <td>358.48</td>\n",
       "      <td>382.16</td>\n",
       "      <td>...</td>\n",
       "      <td>519.71</td>\n",
       "      <td>541.77</td>\n",
       "      <td>1</td>\n",
       "      <td>0</td>\n",
       "      <td>0.666667</td>\n",
       "      <td>1724.406</td>\n",
       "      <td>0.0</td>\n",
       "      <td>486.497</td>\n",
       "      <td>12.0</td>\n",
       "      <td>1.9</td>\n",
       "    </tr>\n",
       "    <tr>\n",
       "      <th>3</th>\n",
       "      <td>03DEC-230</td>\n",
       "      <td>01/01/2020</td>\n",
       "      <td>01/01/2020 04:00</td>\n",
       "      <td>0</td>\n",
       "      <td>1</td>\n",
       "      <td>3</td>\n",
       "      <td>4</td>\n",
       "      <td>310.62</td>\n",
       "      <td>344.90</td>\n",
       "      <td>342.09</td>\n",
       "      <td>...</td>\n",
       "      <td>520.72</td>\n",
       "      <td>540.93</td>\n",
       "      <td>1</td>\n",
       "      <td>0</td>\n",
       "      <td>0.666667</td>\n",
       "      <td>1625.519</td>\n",
       "      <td>0.0</td>\n",
       "      <td>472.968</td>\n",
       "      <td>12.0</td>\n",
       "      <td>1.9</td>\n",
       "    </tr>\n",
       "    <tr>\n",
       "      <th>4</th>\n",
       "      <td>03DEC-230</td>\n",
       "      <td>01/01/2020</td>\n",
       "      <td>01/01/2020 05:00</td>\n",
       "      <td>0</td>\n",
       "      <td>1</td>\n",
       "      <td>3</td>\n",
       "      <td>5</td>\n",
       "      <td>282.84</td>\n",
       "      <td>329.55</td>\n",
       "      <td>253.99</td>\n",
       "      <td>...</td>\n",
       "      <td>519.45</td>\n",
       "      <td>552.57</td>\n",
       "      <td>1</td>\n",
       "      <td>0</td>\n",
       "      <td>0.666667</td>\n",
       "      <td>1502.951</td>\n",
       "      <td>0.0</td>\n",
       "      <td>471.125</td>\n",
       "      <td>12.0</td>\n",
       "      <td>1.9</td>\n",
       "    </tr>\n",
       "  </tbody>\n",
       "</table>\n",
       "<p>5 rows × 27 columns</p>\n",
       "</div>"
      ]
     },
     "execution_count": 4,
     "metadata": {},
     "output_type": "execute_result"
    }
   ],
   "source": [
    "DF=pd.read_csv(\"data/BD.csv\");DF.head()"
   ]
  },
  {
   "cell_type": "code",
   "execution_count": 5,
   "id": "524cb724-d8f5-44b4-a39b-9dc486202006",
   "metadata": {},
   "outputs": [
    {
     "data": {
      "text/html": [
       "<div>\n",
       "<style scoped>\n",
       "    .dataframe tbody tr th:only-of-type {\n",
       "        vertical-align: middle;\n",
       "    }\n",
       "\n",
       "    .dataframe tbody tr th {\n",
       "        vertical-align: top;\n",
       "    }\n",
       "\n",
       "    .dataframe thead th {\n",
       "        text-align: right;\n",
       "    }\n",
       "</style>\n",
       "<table border=\"1\" class=\"dataframe\">\n",
       "  <thead>\n",
       "    <tr style=\"text-align: right;\">\n",
       "      <th></th>\n",
       "      <th>clanodo</th>\n",
       "      <th>fecha</th>\n",
       "      <th>fecha_h</th>\n",
       "      <th>festivo</th>\n",
       "      <th>mes</th>\n",
       "      <th>diaSemana</th>\n",
       "      <th>hora</th>\n",
       "      <th>mda</th>\n",
       "      <th>mtr</th>\n",
       "      <th>mda7</th>\n",
       "      <th>...</th>\n",
       "      <th>mda52</th>\n",
       "      <th>mtr52</th>\n",
       "      <th>ypast52</th>\n",
       "      <th>festivo52</th>\n",
       "      <th>ypast3avg</th>\n",
       "      <th>eolica</th>\n",
       "      <th>fotovol</th>\n",
       "      <th>demanda</th>\n",
       "      <th>temperatura</th>\n",
       "      <th>hsc</th>\n",
       "    </tr>\n",
       "  </thead>\n",
       "  <tbody>\n",
       "    <tr>\n",
       "      <th>0</th>\n",
       "      <td>03DEC-230</td>\n",
       "      <td>2020-01-01</td>\n",
       "      <td>2020-01-01 01:00:00</td>\n",
       "      <td>0</td>\n",
       "      <td>1</td>\n",
       "      <td>3</td>\n",
       "      <td>1</td>\n",
       "      <td>366.98</td>\n",
       "      <td>360.98</td>\n",
       "      <td>412.31</td>\n",
       "      <td>...</td>\n",
       "      <td>546.67</td>\n",
       "      <td>571.09</td>\n",
       "      <td>1</td>\n",
       "      <td>0</td>\n",
       "      <td>0.333333</td>\n",
       "      <td>1893.677</td>\n",
       "      <td>0.0</td>\n",
       "      <td>514.389</td>\n",
       "      <td>12.0</td>\n",
       "      <td>1.9</td>\n",
       "    </tr>\n",
       "    <tr>\n",
       "      <th>1</th>\n",
       "      <td>03DEC-230</td>\n",
       "      <td>2020-01-01</td>\n",
       "      <td>2020-01-01 02:00:00</td>\n",
       "      <td>0</td>\n",
       "      <td>1</td>\n",
       "      <td>3</td>\n",
       "      <td>2</td>\n",
       "      <td>341.85</td>\n",
       "      <td>360.74</td>\n",
       "      <td>369.05</td>\n",
       "      <td>...</td>\n",
       "      <td>524.58</td>\n",
       "      <td>550.46</td>\n",
       "      <td>1</td>\n",
       "      <td>0</td>\n",
       "      <td>0.666667</td>\n",
       "      <td>1816.833</td>\n",
       "      <td>0.0</td>\n",
       "      <td>500.955</td>\n",
       "      <td>12.0</td>\n",
       "      <td>1.9</td>\n",
       "    </tr>\n",
       "    <tr>\n",
       "      <th>2</th>\n",
       "      <td>03DEC-230</td>\n",
       "      <td>2020-01-01</td>\n",
       "      <td>2020-01-01 03:00:00</td>\n",
       "      <td>0</td>\n",
       "      <td>1</td>\n",
       "      <td>3</td>\n",
       "      <td>3</td>\n",
       "      <td>322.58</td>\n",
       "      <td>358.48</td>\n",
       "      <td>382.16</td>\n",
       "      <td>...</td>\n",
       "      <td>519.71</td>\n",
       "      <td>541.77</td>\n",
       "      <td>1</td>\n",
       "      <td>0</td>\n",
       "      <td>0.666667</td>\n",
       "      <td>1724.406</td>\n",
       "      <td>0.0</td>\n",
       "      <td>486.497</td>\n",
       "      <td>12.0</td>\n",
       "      <td>1.9</td>\n",
       "    </tr>\n",
       "    <tr>\n",
       "      <th>3</th>\n",
       "      <td>03DEC-230</td>\n",
       "      <td>2020-01-01</td>\n",
       "      <td>2020-01-01 04:00:00</td>\n",
       "      <td>0</td>\n",
       "      <td>1</td>\n",
       "      <td>3</td>\n",
       "      <td>4</td>\n",
       "      <td>310.62</td>\n",
       "      <td>344.90</td>\n",
       "      <td>342.09</td>\n",
       "      <td>...</td>\n",
       "      <td>520.72</td>\n",
       "      <td>540.93</td>\n",
       "      <td>1</td>\n",
       "      <td>0</td>\n",
       "      <td>0.666667</td>\n",
       "      <td>1625.519</td>\n",
       "      <td>0.0</td>\n",
       "      <td>472.968</td>\n",
       "      <td>12.0</td>\n",
       "      <td>1.9</td>\n",
       "    </tr>\n",
       "    <tr>\n",
       "      <th>4</th>\n",
       "      <td>03DEC-230</td>\n",
       "      <td>2020-01-01</td>\n",
       "      <td>2020-01-01 05:00:00</td>\n",
       "      <td>0</td>\n",
       "      <td>1</td>\n",
       "      <td>3</td>\n",
       "      <td>5</td>\n",
       "      <td>282.84</td>\n",
       "      <td>329.55</td>\n",
       "      <td>253.99</td>\n",
       "      <td>...</td>\n",
       "      <td>519.45</td>\n",
       "      <td>552.57</td>\n",
       "      <td>1</td>\n",
       "      <td>0</td>\n",
       "      <td>0.666667</td>\n",
       "      <td>1502.951</td>\n",
       "      <td>0.0</td>\n",
       "      <td>471.125</td>\n",
       "      <td>12.0</td>\n",
       "      <td>1.9</td>\n",
       "    </tr>\n",
       "  </tbody>\n",
       "</table>\n",
       "<p>5 rows × 27 columns</p>\n",
       "</div>"
      ]
     },
     "execution_count": 5,
     "metadata": {},
     "output_type": "execute_result"
    }
   ],
   "source": [
    "DF['fecha']=pd.to_datetime(DF['fecha']);DF.head()\n",
    "DF['fecha_h']=pd.to_datetime(DF['fecha_h']);DF.head()"
   ]
  },
  {
   "cell_type": "markdown",
   "id": "842bd44d-28d1-4382-84e6-5e2510917fa8",
   "metadata": {},
   "source": [
    "# Fixing temperatura"
   ]
  },
  {
   "cell_type": "code",
   "execution_count": 39,
   "id": "b69f33cc-8e81-43f0-b366-3b910e732bdb",
   "metadata": {},
   "outputs": [],
   "source": [
    "DF['temperatura']= DF['temperatura'].replace(\"#Â¡REF!\", 0)\n",
    "DF['temperatura'] = DF['temperatura'].astype('float64')"
   ]
  },
  {
   "cell_type": "markdown",
   "id": "bcba8497-bd0d-4686-b42a-78216afe3c7a",
   "metadata": {},
   "source": [
    "# Creating output"
   ]
  },
  {
   "cell_type": "code",
   "execution_count": 40,
   "id": "ade691c0-4d98-433b-879d-3da8d9113fd0",
   "metadata": {},
   "outputs": [
    {
     "data": {
      "text/html": [
       "<div>\n",
       "<style scoped>\n",
       "    .dataframe tbody tr th:only-of-type {\n",
       "        vertical-align: middle;\n",
       "    }\n",
       "\n",
       "    .dataframe tbody tr th {\n",
       "        vertical-align: top;\n",
       "    }\n",
       "\n",
       "    .dataframe thead th {\n",
       "        text-align: right;\n",
       "    }\n",
       "</style>\n",
       "<table border=\"1\" class=\"dataframe\">\n",
       "  <thead>\n",
       "    <tr style=\"text-align: right;\">\n",
       "      <th></th>\n",
       "      <th>clanodo</th>\n",
       "      <th>fecha</th>\n",
       "      <th>fecha_h</th>\n",
       "      <th>festivo</th>\n",
       "      <th>mes</th>\n",
       "      <th>diaSemana</th>\n",
       "      <th>hora</th>\n",
       "      <th>mda</th>\n",
       "      <th>mtr</th>\n",
       "      <th>mda7</th>\n",
       "      <th>...</th>\n",
       "      <th>ypast52</th>\n",
       "      <th>festivo52</th>\n",
       "      <th>ypast3avg</th>\n",
       "      <th>eolica</th>\n",
       "      <th>fotovol</th>\n",
       "      <th>demanda</th>\n",
       "      <th>temperatura</th>\n",
       "      <th>hsc</th>\n",
       "      <th>DART (MXN/MWh)</th>\n",
       "      <th>DARTbin</th>\n",
       "    </tr>\n",
       "  </thead>\n",
       "  <tbody>\n",
       "    <tr>\n",
       "      <th>0</th>\n",
       "      <td>03DEC-230</td>\n",
       "      <td>2020-01-01</td>\n",
       "      <td>2020-01-01 01:00:00</td>\n",
       "      <td>0</td>\n",
       "      <td>1</td>\n",
       "      <td>3</td>\n",
       "      <td>1</td>\n",
       "      <td>366.98</td>\n",
       "      <td>360.98</td>\n",
       "      <td>412.31</td>\n",
       "      <td>...</td>\n",
       "      <td>1</td>\n",
       "      <td>0</td>\n",
       "      <td>0.333333</td>\n",
       "      <td>1893.677</td>\n",
       "      <td>0.0</td>\n",
       "      <td>514.389</td>\n",
       "      <td>12.0</td>\n",
       "      <td>1.9</td>\n",
       "      <td>-6.00</td>\n",
       "      <td>0</td>\n",
       "    </tr>\n",
       "    <tr>\n",
       "      <th>1</th>\n",
       "      <td>03DEC-230</td>\n",
       "      <td>2020-01-01</td>\n",
       "      <td>2020-01-01 02:00:00</td>\n",
       "      <td>0</td>\n",
       "      <td>1</td>\n",
       "      <td>3</td>\n",
       "      <td>2</td>\n",
       "      <td>341.85</td>\n",
       "      <td>360.74</td>\n",
       "      <td>369.05</td>\n",
       "      <td>...</td>\n",
       "      <td>1</td>\n",
       "      <td>0</td>\n",
       "      <td>0.666667</td>\n",
       "      <td>1816.833</td>\n",
       "      <td>0.0</td>\n",
       "      <td>500.955</td>\n",
       "      <td>12.0</td>\n",
       "      <td>1.9</td>\n",
       "      <td>18.89</td>\n",
       "      <td>1</td>\n",
       "    </tr>\n",
       "    <tr>\n",
       "      <th>2</th>\n",
       "      <td>03DEC-230</td>\n",
       "      <td>2020-01-01</td>\n",
       "      <td>2020-01-01 03:00:00</td>\n",
       "      <td>0</td>\n",
       "      <td>1</td>\n",
       "      <td>3</td>\n",
       "      <td>3</td>\n",
       "      <td>322.58</td>\n",
       "      <td>358.48</td>\n",
       "      <td>382.16</td>\n",
       "      <td>...</td>\n",
       "      <td>1</td>\n",
       "      <td>0</td>\n",
       "      <td>0.666667</td>\n",
       "      <td>1724.406</td>\n",
       "      <td>0.0</td>\n",
       "      <td>486.497</td>\n",
       "      <td>12.0</td>\n",
       "      <td>1.9</td>\n",
       "      <td>35.90</td>\n",
       "      <td>1</td>\n",
       "    </tr>\n",
       "    <tr>\n",
       "      <th>3</th>\n",
       "      <td>03DEC-230</td>\n",
       "      <td>2020-01-01</td>\n",
       "      <td>2020-01-01 04:00:00</td>\n",
       "      <td>0</td>\n",
       "      <td>1</td>\n",
       "      <td>3</td>\n",
       "      <td>4</td>\n",
       "      <td>310.62</td>\n",
       "      <td>344.90</td>\n",
       "      <td>342.09</td>\n",
       "      <td>...</td>\n",
       "      <td>1</td>\n",
       "      <td>0</td>\n",
       "      <td>0.666667</td>\n",
       "      <td>1625.519</td>\n",
       "      <td>0.0</td>\n",
       "      <td>472.968</td>\n",
       "      <td>12.0</td>\n",
       "      <td>1.9</td>\n",
       "      <td>34.28</td>\n",
       "      <td>1</td>\n",
       "    </tr>\n",
       "    <tr>\n",
       "      <th>4</th>\n",
       "      <td>03DEC-230</td>\n",
       "      <td>2020-01-01</td>\n",
       "      <td>2020-01-01 05:00:00</td>\n",
       "      <td>0</td>\n",
       "      <td>1</td>\n",
       "      <td>3</td>\n",
       "      <td>5</td>\n",
       "      <td>282.84</td>\n",
       "      <td>329.55</td>\n",
       "      <td>253.99</td>\n",
       "      <td>...</td>\n",
       "      <td>1</td>\n",
       "      <td>0</td>\n",
       "      <td>0.666667</td>\n",
       "      <td>1502.951</td>\n",
       "      <td>0.0</td>\n",
       "      <td>471.125</td>\n",
       "      <td>12.0</td>\n",
       "      <td>1.9</td>\n",
       "      <td>46.71</td>\n",
       "      <td>1</td>\n",
       "    </tr>\n",
       "  </tbody>\n",
       "</table>\n",
       "<p>5 rows × 29 columns</p>\n",
       "</div>"
      ]
     },
     "execution_count": 40,
     "metadata": {},
     "output_type": "execute_result"
    }
   ],
   "source": [
    "DF['DART (MXN/MWh)']=DF['mtr']-DF['mda']\n",
    "DF['DARTbin']=DF['mtr']>=DF['mda']\n",
    "DF['DARTbin']=DF['DARTbin'].map({True:1,False:0});DF.head()"
   ]
  },
  {
   "cell_type": "markdown",
   "id": "e5df6235-2c7c-4b24-a7ea-6817369faf53",
   "metadata": {},
   "source": [
    "# Creating Data Frame for a node"
   ]
  },
  {
   "cell_type": "code",
   "execution_count": 41,
   "id": "60d2ab67-4272-4d3c-96ae-a239567896ef",
   "metadata": {},
   "outputs": [
    {
     "name": "stdout",
     "output_type": "stream",
     "text": [
      "<class 'pandas.core.frame.DataFrame'>\n",
      "Int64Index: 19800 entries, 0 to 19799\n",
      "Data columns (total 29 columns):\n",
      " #   Column          Non-Null Count  Dtype         \n",
      "---  ------          --------------  -----         \n",
      " 0   clanodo         19800 non-null  object        \n",
      " 1   fecha           19800 non-null  datetime64[ns]\n",
      " 2   fecha_h         19800 non-null  datetime64[ns]\n",
      " 3   festivo         19800 non-null  int64         \n",
      " 4   mes             19800 non-null  int64         \n",
      " 5   diaSemana       19800 non-null  int64         \n",
      " 6   hora            19800 non-null  int64         \n",
      " 7   mda             19800 non-null  float64       \n",
      " 8   mtr             19608 non-null  float64       \n",
      " 9   mda7            19796 non-null  float64       \n",
      " 10  mtr7            19772 non-null  float64       \n",
      " 11  ypast7          19800 non-null  int64         \n",
      " 12  festivo7        19800 non-null  int64         \n",
      " 13  mda14           19796 non-null  float64       \n",
      " 14  mtr14           19772 non-null  float64       \n",
      " 15  ypast14         19800 non-null  int64         \n",
      " 16  festivo14       19800 non-null  int64         \n",
      " 17  mda52           19799 non-null  float64       \n",
      " 18  mtr52           19775 non-null  float64       \n",
      " 19  ypast52         19800 non-null  int64         \n",
      " 20  festivo52       19800 non-null  int64         \n",
      " 21  ypast3avg       19576 non-null  float64       \n",
      " 22  eolica          19800 non-null  float64       \n",
      " 23  fotovol         19800 non-null  float64       \n",
      " 24  demanda         19776 non-null  float64       \n",
      " 25  temperatura     19677 non-null  float64       \n",
      " 26  hsc             19800 non-null  float64       \n",
      " 27  DART (MXN/MWh)  19608 non-null  float64       \n",
      " 28  DARTbin         19800 non-null  int64         \n",
      "dtypes: datetime64[ns](2), float64(15), int64(11), object(1)\n",
      "memory usage: 4.5+ MB\n"
     ]
    }
   ],
   "source": [
    "node='03DEC-230'\n",
    "DF_node=DF[DF['clanodo']==node];DF_node.info()"
   ]
  },
  {
   "cell_type": "markdown",
   "id": "fab5e621-03d2-44f4-b92d-e138b0a31ae3",
   "metadata": {},
   "source": [
    "# Creating Year and Day"
   ]
  },
  {
   "cell_type": "code",
   "execution_count": 42,
   "id": "0d7ea8c8-4515-42ba-927b-8614f8cbd7f2",
   "metadata": {},
   "outputs": [
    {
     "name": "stderr",
     "output_type": "stream",
     "text": [
      "\n",
      "A value is trying to be set on a copy of a slice from a DataFrame.\n",
      "Try using .loc[row_indexer,col_indexer] = value instead\n",
      "\n",
      "See the caveats in the documentation: https://pandas.pydata.org/pandas-docs/stable/user_guide/indexing.html#returning-a-view-versus-a-copy\n",
      "\n",
      "A value is trying to be set on a copy of a slice from a DataFrame.\n",
      "Try using .loc[row_indexer,col_indexer] = value instead\n",
      "\n",
      "See the caveats in the documentation: https://pandas.pydata.org/pandas-docs/stable/user_guide/indexing.html#returning-a-view-versus-a-copy\n"
     ]
    },
    {
     "data": {
      "text/html": [
       "<div>\n",
       "<style scoped>\n",
       "    .dataframe tbody tr th:only-of-type {\n",
       "        vertical-align: middle;\n",
       "    }\n",
       "\n",
       "    .dataframe tbody tr th {\n",
       "        vertical-align: top;\n",
       "    }\n",
       "\n",
       "    .dataframe thead th {\n",
       "        text-align: right;\n",
       "    }\n",
       "</style>\n",
       "<table border=\"1\" class=\"dataframe\">\n",
       "  <thead>\n",
       "    <tr style=\"text-align: right;\">\n",
       "      <th></th>\n",
       "      <th>clanodo</th>\n",
       "      <th>fecha</th>\n",
       "      <th>fecha_h</th>\n",
       "      <th>festivo</th>\n",
       "      <th>mes</th>\n",
       "      <th>diaSemana</th>\n",
       "      <th>hora</th>\n",
       "      <th>mda</th>\n",
       "      <th>mtr</th>\n",
       "      <th>mda7</th>\n",
       "      <th>...</th>\n",
       "      <th>ypast3avg</th>\n",
       "      <th>eolica</th>\n",
       "      <th>fotovol</th>\n",
       "      <th>demanda</th>\n",
       "      <th>temperatura</th>\n",
       "      <th>hsc</th>\n",
       "      <th>DART (MXN/MWh)</th>\n",
       "      <th>DARTbin</th>\n",
       "      <th>Year</th>\n",
       "      <th>Day</th>\n",
       "    </tr>\n",
       "  </thead>\n",
       "  <tbody>\n",
       "    <tr>\n",
       "      <th>0</th>\n",
       "      <td>03DEC-230</td>\n",
       "      <td>2020-01-01</td>\n",
       "      <td>2020-01-01 01:00:00</td>\n",
       "      <td>0</td>\n",
       "      <td>1</td>\n",
       "      <td>3</td>\n",
       "      <td>1</td>\n",
       "      <td>366.98</td>\n",
       "      <td>360.98</td>\n",
       "      <td>412.31</td>\n",
       "      <td>...</td>\n",
       "      <td>0.333333</td>\n",
       "      <td>1893.677</td>\n",
       "      <td>0.0</td>\n",
       "      <td>514.389</td>\n",
       "      <td>12.0</td>\n",
       "      <td>1.9</td>\n",
       "      <td>-6.00</td>\n",
       "      <td>0</td>\n",
       "      <td>2020</td>\n",
       "      <td>1</td>\n",
       "    </tr>\n",
       "    <tr>\n",
       "      <th>1</th>\n",
       "      <td>03DEC-230</td>\n",
       "      <td>2020-01-01</td>\n",
       "      <td>2020-01-01 02:00:00</td>\n",
       "      <td>0</td>\n",
       "      <td>1</td>\n",
       "      <td>3</td>\n",
       "      <td>2</td>\n",
       "      <td>341.85</td>\n",
       "      <td>360.74</td>\n",
       "      <td>369.05</td>\n",
       "      <td>...</td>\n",
       "      <td>0.666667</td>\n",
       "      <td>1816.833</td>\n",
       "      <td>0.0</td>\n",
       "      <td>500.955</td>\n",
       "      <td>12.0</td>\n",
       "      <td>1.9</td>\n",
       "      <td>18.89</td>\n",
       "      <td>1</td>\n",
       "      <td>2020</td>\n",
       "      <td>1</td>\n",
       "    </tr>\n",
       "    <tr>\n",
       "      <th>2</th>\n",
       "      <td>03DEC-230</td>\n",
       "      <td>2020-01-01</td>\n",
       "      <td>2020-01-01 03:00:00</td>\n",
       "      <td>0</td>\n",
       "      <td>1</td>\n",
       "      <td>3</td>\n",
       "      <td>3</td>\n",
       "      <td>322.58</td>\n",
       "      <td>358.48</td>\n",
       "      <td>382.16</td>\n",
       "      <td>...</td>\n",
       "      <td>0.666667</td>\n",
       "      <td>1724.406</td>\n",
       "      <td>0.0</td>\n",
       "      <td>486.497</td>\n",
       "      <td>12.0</td>\n",
       "      <td>1.9</td>\n",
       "      <td>35.90</td>\n",
       "      <td>1</td>\n",
       "      <td>2020</td>\n",
       "      <td>1</td>\n",
       "    </tr>\n",
       "    <tr>\n",
       "      <th>3</th>\n",
       "      <td>03DEC-230</td>\n",
       "      <td>2020-01-01</td>\n",
       "      <td>2020-01-01 04:00:00</td>\n",
       "      <td>0</td>\n",
       "      <td>1</td>\n",
       "      <td>3</td>\n",
       "      <td>4</td>\n",
       "      <td>310.62</td>\n",
       "      <td>344.90</td>\n",
       "      <td>342.09</td>\n",
       "      <td>...</td>\n",
       "      <td>0.666667</td>\n",
       "      <td>1625.519</td>\n",
       "      <td>0.0</td>\n",
       "      <td>472.968</td>\n",
       "      <td>12.0</td>\n",
       "      <td>1.9</td>\n",
       "      <td>34.28</td>\n",
       "      <td>1</td>\n",
       "      <td>2020</td>\n",
       "      <td>1</td>\n",
       "    </tr>\n",
       "    <tr>\n",
       "      <th>4</th>\n",
       "      <td>03DEC-230</td>\n",
       "      <td>2020-01-01</td>\n",
       "      <td>2020-01-01 05:00:00</td>\n",
       "      <td>0</td>\n",
       "      <td>1</td>\n",
       "      <td>3</td>\n",
       "      <td>5</td>\n",
       "      <td>282.84</td>\n",
       "      <td>329.55</td>\n",
       "      <td>253.99</td>\n",
       "      <td>...</td>\n",
       "      <td>0.666667</td>\n",
       "      <td>1502.951</td>\n",
       "      <td>0.0</td>\n",
       "      <td>471.125</td>\n",
       "      <td>12.0</td>\n",
       "      <td>1.9</td>\n",
       "      <td>46.71</td>\n",
       "      <td>1</td>\n",
       "      <td>2020</td>\n",
       "      <td>1</td>\n",
       "    </tr>\n",
       "  </tbody>\n",
       "</table>\n",
       "<p>5 rows × 31 columns</p>\n",
       "</div>"
      ]
     },
     "execution_count": 42,
     "metadata": {},
     "output_type": "execute_result"
    }
   ],
   "source": [
    "DF_node['Year']=pd.DatetimeIndex(DF_node['fecha']).year; DF_node.head()\n",
    "DF_node['Day']=pd.DatetimeIndex(DF_node['fecha']).day; DF_node.head()"
   ]
  },
  {
   "cell_type": "markdown",
   "id": "e3b4bd6c-ce18-48d3-9af9-a923df93e20c",
   "metadata": {},
   "source": [
    "# Remove Natural Gas Crisis 2021"
   ]
  },
  {
   "cell_type": "code",
   "execution_count": 43,
   "id": "6f213606-305b-4b8e-ab11-387ee0d371ca",
   "metadata": {},
   "outputs": [
    {
     "data": {
      "text/html": [
       "<div>\n",
       "<style scoped>\n",
       "    .dataframe tbody tr th:only-of-type {\n",
       "        vertical-align: middle;\n",
       "    }\n",
       "\n",
       "    .dataframe tbody tr th {\n",
       "        vertical-align: top;\n",
       "    }\n",
       "\n",
       "    .dataframe thead th {\n",
       "        text-align: right;\n",
       "    }\n",
       "</style>\n",
       "<table border=\"1\" class=\"dataframe\">\n",
       "  <thead>\n",
       "    <tr style=\"text-align: right;\">\n",
       "      <th></th>\n",
       "      <th>clanodo</th>\n",
       "      <th>fecha</th>\n",
       "      <th>fecha_h</th>\n",
       "      <th>festivo</th>\n",
       "      <th>mes</th>\n",
       "      <th>diaSemana</th>\n",
       "      <th>hora</th>\n",
       "      <th>mda</th>\n",
       "      <th>mtr</th>\n",
       "      <th>mda7</th>\n",
       "      <th>...</th>\n",
       "      <th>ypast3avg</th>\n",
       "      <th>eolica</th>\n",
       "      <th>fotovol</th>\n",
       "      <th>demanda</th>\n",
       "      <th>temperatura</th>\n",
       "      <th>hsc</th>\n",
       "      <th>DART (MXN/MWh)</th>\n",
       "      <th>DARTbin</th>\n",
       "      <th>Year</th>\n",
       "      <th>Day</th>\n",
       "    </tr>\n",
       "  </thead>\n",
       "  <tbody>\n",
       "    <tr>\n",
       "      <th>0</th>\n",
       "      <td>03DEC-230</td>\n",
       "      <td>2020-01-01</td>\n",
       "      <td>2020-01-01 01:00:00</td>\n",
       "      <td>0</td>\n",
       "      <td>1</td>\n",
       "      <td>3</td>\n",
       "      <td>1</td>\n",
       "      <td>366.98</td>\n",
       "      <td>360.98</td>\n",
       "      <td>412.31</td>\n",
       "      <td>...</td>\n",
       "      <td>0.333333</td>\n",
       "      <td>1893.677</td>\n",
       "      <td>0.000</td>\n",
       "      <td>514.389</td>\n",
       "      <td>12.0</td>\n",
       "      <td>1.90</td>\n",
       "      <td>-6.00</td>\n",
       "      <td>0</td>\n",
       "      <td>2020</td>\n",
       "      <td>1</td>\n",
       "    </tr>\n",
       "    <tr>\n",
       "      <th>1</th>\n",
       "      <td>03DEC-230</td>\n",
       "      <td>2020-01-01</td>\n",
       "      <td>2020-01-01 02:00:00</td>\n",
       "      <td>0</td>\n",
       "      <td>1</td>\n",
       "      <td>3</td>\n",
       "      <td>2</td>\n",
       "      <td>341.85</td>\n",
       "      <td>360.74</td>\n",
       "      <td>369.05</td>\n",
       "      <td>...</td>\n",
       "      <td>0.666667</td>\n",
       "      <td>1816.833</td>\n",
       "      <td>0.000</td>\n",
       "      <td>500.955</td>\n",
       "      <td>12.0</td>\n",
       "      <td>1.90</td>\n",
       "      <td>18.89</td>\n",
       "      <td>1</td>\n",
       "      <td>2020</td>\n",
       "      <td>1</td>\n",
       "    </tr>\n",
       "    <tr>\n",
       "      <th>2</th>\n",
       "      <td>03DEC-230</td>\n",
       "      <td>2020-01-01</td>\n",
       "      <td>2020-01-01 03:00:00</td>\n",
       "      <td>0</td>\n",
       "      <td>1</td>\n",
       "      <td>3</td>\n",
       "      <td>3</td>\n",
       "      <td>322.58</td>\n",
       "      <td>358.48</td>\n",
       "      <td>382.16</td>\n",
       "      <td>...</td>\n",
       "      <td>0.666667</td>\n",
       "      <td>1724.406</td>\n",
       "      <td>0.000</td>\n",
       "      <td>486.497</td>\n",
       "      <td>12.0</td>\n",
       "      <td>1.90</td>\n",
       "      <td>35.90</td>\n",
       "      <td>1</td>\n",
       "      <td>2020</td>\n",
       "      <td>1</td>\n",
       "    </tr>\n",
       "    <tr>\n",
       "      <th>3</th>\n",
       "      <td>03DEC-230</td>\n",
       "      <td>2020-01-01</td>\n",
       "      <td>2020-01-01 04:00:00</td>\n",
       "      <td>0</td>\n",
       "      <td>1</td>\n",
       "      <td>3</td>\n",
       "      <td>4</td>\n",
       "      <td>310.62</td>\n",
       "      <td>344.90</td>\n",
       "      <td>342.09</td>\n",
       "      <td>...</td>\n",
       "      <td>0.666667</td>\n",
       "      <td>1625.519</td>\n",
       "      <td>0.000</td>\n",
       "      <td>472.968</td>\n",
       "      <td>12.0</td>\n",
       "      <td>1.90</td>\n",
       "      <td>34.28</td>\n",
       "      <td>1</td>\n",
       "      <td>2020</td>\n",
       "      <td>1</td>\n",
       "    </tr>\n",
       "    <tr>\n",
       "      <th>4</th>\n",
       "      <td>03DEC-230</td>\n",
       "      <td>2020-01-01</td>\n",
       "      <td>2020-01-01 05:00:00</td>\n",
       "      <td>0</td>\n",
       "      <td>1</td>\n",
       "      <td>3</td>\n",
       "      <td>5</td>\n",
       "      <td>282.84</td>\n",
       "      <td>329.55</td>\n",
       "      <td>253.99</td>\n",
       "      <td>...</td>\n",
       "      <td>0.666667</td>\n",
       "      <td>1502.951</td>\n",
       "      <td>0.000</td>\n",
       "      <td>471.125</td>\n",
       "      <td>12.0</td>\n",
       "      <td>1.90</td>\n",
       "      <td>46.71</td>\n",
       "      <td>1</td>\n",
       "      <td>2020</td>\n",
       "      <td>1</td>\n",
       "    </tr>\n",
       "    <tr>\n",
       "      <th>...</th>\n",
       "      <td>...</td>\n",
       "      <td>...</td>\n",
       "      <td>...</td>\n",
       "      <td>...</td>\n",
       "      <td>...</td>\n",
       "      <td>...</td>\n",
       "      <td>...</td>\n",
       "      <td>...</td>\n",
       "      <td>...</td>\n",
       "      <td>...</td>\n",
       "      <td>...</td>\n",
       "      <td>...</td>\n",
       "      <td>...</td>\n",
       "      <td>...</td>\n",
       "      <td>...</td>\n",
       "      <td>...</td>\n",
       "      <td>...</td>\n",
       "      <td>...</td>\n",
       "      <td>...</td>\n",
       "      <td>...</td>\n",
       "      <td>...</td>\n",
       "    </tr>\n",
       "    <tr>\n",
       "      <th>19795</th>\n",
       "      <td>03DEC-230</td>\n",
       "      <td>2022-03-30</td>\n",
       "      <td>2022-03-30 20:00:00</td>\n",
       "      <td>0</td>\n",
       "      <td>3</td>\n",
       "      <td>3</td>\n",
       "      <td>20</td>\n",
       "      <td>1086.16</td>\n",
       "      <td>NaN</td>\n",
       "      <td>1403.61</td>\n",
       "      <td>...</td>\n",
       "      <td>NaN</td>\n",
       "      <td>2535.529</td>\n",
       "      <td>66.651</td>\n",
       "      <td>709.867</td>\n",
       "      <td>20.0</td>\n",
       "      <td>5.01</td>\n",
       "      <td>NaN</td>\n",
       "      <td>0</td>\n",
       "      <td>2022</td>\n",
       "      <td>30</td>\n",
       "    </tr>\n",
       "    <tr>\n",
       "      <th>19796</th>\n",
       "      <td>03DEC-230</td>\n",
       "      <td>2022-03-30</td>\n",
       "      <td>2022-03-30 21:00:00</td>\n",
       "      <td>0</td>\n",
       "      <td>3</td>\n",
       "      <td>3</td>\n",
       "      <td>21</td>\n",
       "      <td>2412.35</td>\n",
       "      <td>NaN</td>\n",
       "      <td>1772.35</td>\n",
       "      <td>...</td>\n",
       "      <td>NaN</td>\n",
       "      <td>2164.385</td>\n",
       "      <td>0.000</td>\n",
       "      <td>705.275</td>\n",
       "      <td>18.0</td>\n",
       "      <td>5.01</td>\n",
       "      <td>NaN</td>\n",
       "      <td>0</td>\n",
       "      <td>2022</td>\n",
       "      <td>30</td>\n",
       "    </tr>\n",
       "    <tr>\n",
       "      <th>19797</th>\n",
       "      <td>03DEC-230</td>\n",
       "      <td>2022-03-30</td>\n",
       "      <td>2022-03-30 22:00:00</td>\n",
       "      <td>0</td>\n",
       "      <td>3</td>\n",
       "      <td>3</td>\n",
       "      <td>22</td>\n",
       "      <td>1193.01</td>\n",
       "      <td>NaN</td>\n",
       "      <td>1213.71</td>\n",
       "      <td>...</td>\n",
       "      <td>NaN</td>\n",
       "      <td>2069.404</td>\n",
       "      <td>0.000</td>\n",
       "      <td>699.781</td>\n",
       "      <td>14.0</td>\n",
       "      <td>5.01</td>\n",
       "      <td>NaN</td>\n",
       "      <td>0</td>\n",
       "      <td>2022</td>\n",
       "      <td>30</td>\n",
       "    </tr>\n",
       "    <tr>\n",
       "      <th>19798</th>\n",
       "      <td>03DEC-230</td>\n",
       "      <td>2022-03-30</td>\n",
       "      <td>2022-03-30 23:00:00</td>\n",
       "      <td>0</td>\n",
       "      <td>3</td>\n",
       "      <td>3</td>\n",
       "      <td>23</td>\n",
       "      <td>1031.34</td>\n",
       "      <td>NaN</td>\n",
       "      <td>1094.56</td>\n",
       "      <td>...</td>\n",
       "      <td>NaN</td>\n",
       "      <td>1958.247</td>\n",
       "      <td>0.000</td>\n",
       "      <td>662.964</td>\n",
       "      <td>12.0</td>\n",
       "      <td>5.01</td>\n",
       "      <td>NaN</td>\n",
       "      <td>0</td>\n",
       "      <td>2022</td>\n",
       "      <td>30</td>\n",
       "    </tr>\n",
       "    <tr>\n",
       "      <th>19799</th>\n",
       "      <td>03DEC-230</td>\n",
       "      <td>2022-03-30</td>\n",
       "      <td>2022-03-31 00:00:00</td>\n",
       "      <td>0</td>\n",
       "      <td>3</td>\n",
       "      <td>3</td>\n",
       "      <td>24</td>\n",
       "      <td>996.82</td>\n",
       "      <td>NaN</td>\n",
       "      <td>976.40</td>\n",
       "      <td>...</td>\n",
       "      <td>NaN</td>\n",
       "      <td>1869.900</td>\n",
       "      <td>0.000</td>\n",
       "      <td>621.307</td>\n",
       "      <td>12.0</td>\n",
       "      <td>5.01</td>\n",
       "      <td>NaN</td>\n",
       "      <td>0</td>\n",
       "      <td>2022</td>\n",
       "      <td>30</td>\n",
       "    </tr>\n",
       "  </tbody>\n",
       "</table>\n",
       "<p>19584 rows × 31 columns</p>\n",
       "</div>"
      ]
     },
     "execution_count": 43,
     "metadata": {},
     "output_type": "execute_result"
    }
   ],
   "source": [
    "DF_temp_A = DF_node[DF_node['fecha'] < '2021-02-13']\n",
    "DF_temp_B = DF_node[DF_node['fecha'] >= '2021-02-22']\n",
    "DF_node=pd.concat([DF_temp_A,DF_temp_B],axis=0);DF_node"
   ]
  },
  {
   "cell_type": "markdown",
   "id": "330e7c11-0fd1-463c-99c1-89c923bbb139",
   "metadata": {},
   "source": [
    "# Remove clanodo and fecha"
   ]
  },
  {
   "cell_type": "code",
   "execution_count": 44,
   "id": "e80ab36c-3463-4886-b712-2eccc688c3ea",
   "metadata": {},
   "outputs": [
    {
     "data": {
      "text/html": [
       "<div>\n",
       "<style scoped>\n",
       "    .dataframe tbody tr th:only-of-type {\n",
       "        vertical-align: middle;\n",
       "    }\n",
       "\n",
       "    .dataframe tbody tr th {\n",
       "        vertical-align: top;\n",
       "    }\n",
       "\n",
       "    .dataframe thead th {\n",
       "        text-align: right;\n",
       "    }\n",
       "</style>\n",
       "<table border=\"1\" class=\"dataframe\">\n",
       "  <thead>\n",
       "    <tr style=\"text-align: right;\">\n",
       "      <th></th>\n",
       "      <th>festivo</th>\n",
       "      <th>mes</th>\n",
       "      <th>diaSemana</th>\n",
       "      <th>hora</th>\n",
       "      <th>mda</th>\n",
       "      <th>mtr</th>\n",
       "      <th>mda7</th>\n",
       "      <th>mtr7</th>\n",
       "      <th>ypast7</th>\n",
       "      <th>festivo7</th>\n",
       "      <th>...</th>\n",
       "      <th>ypast3avg</th>\n",
       "      <th>eolica</th>\n",
       "      <th>fotovol</th>\n",
       "      <th>demanda</th>\n",
       "      <th>temperatura</th>\n",
       "      <th>hsc</th>\n",
       "      <th>DART (MXN/MWh)</th>\n",
       "      <th>DARTbin</th>\n",
       "      <th>Year</th>\n",
       "      <th>Day</th>\n",
       "    </tr>\n",
       "  </thead>\n",
       "  <tbody>\n",
       "    <tr>\n",
       "      <th>0</th>\n",
       "      <td>0</td>\n",
       "      <td>1</td>\n",
       "      <td>3</td>\n",
       "      <td>1</td>\n",
       "      <td>366.98</td>\n",
       "      <td>360.98</td>\n",
       "      <td>412.31</td>\n",
       "      <td>379.47</td>\n",
       "      <td>0</td>\n",
       "      <td>0</td>\n",
       "      <td>...</td>\n",
       "      <td>0.333333</td>\n",
       "      <td>1893.677</td>\n",
       "      <td>0.0</td>\n",
       "      <td>514.389</td>\n",
       "      <td>12.0</td>\n",
       "      <td>1.9</td>\n",
       "      <td>-6.00</td>\n",
       "      <td>0</td>\n",
       "      <td>2020</td>\n",
       "      <td>1</td>\n",
       "    </tr>\n",
       "    <tr>\n",
       "      <th>1</th>\n",
       "      <td>0</td>\n",
       "      <td>1</td>\n",
       "      <td>3</td>\n",
       "      <td>2</td>\n",
       "      <td>341.85</td>\n",
       "      <td>360.74</td>\n",
       "      <td>369.05</td>\n",
       "      <td>373.72</td>\n",
       "      <td>1</td>\n",
       "      <td>0</td>\n",
       "      <td>...</td>\n",
       "      <td>0.666667</td>\n",
       "      <td>1816.833</td>\n",
       "      <td>0.0</td>\n",
       "      <td>500.955</td>\n",
       "      <td>12.0</td>\n",
       "      <td>1.9</td>\n",
       "      <td>18.89</td>\n",
       "      <td>1</td>\n",
       "      <td>2020</td>\n",
       "      <td>1</td>\n",
       "    </tr>\n",
       "    <tr>\n",
       "      <th>2</th>\n",
       "      <td>0</td>\n",
       "      <td>1</td>\n",
       "      <td>3</td>\n",
       "      <td>3</td>\n",
       "      <td>322.58</td>\n",
       "      <td>358.48</td>\n",
       "      <td>382.16</td>\n",
       "      <td>359.53</td>\n",
       "      <td>0</td>\n",
       "      <td>0</td>\n",
       "      <td>...</td>\n",
       "      <td>0.666667</td>\n",
       "      <td>1724.406</td>\n",
       "      <td>0.0</td>\n",
       "      <td>486.497</td>\n",
       "      <td>12.0</td>\n",
       "      <td>1.9</td>\n",
       "      <td>35.90</td>\n",
       "      <td>1</td>\n",
       "      <td>2020</td>\n",
       "      <td>1</td>\n",
       "    </tr>\n",
       "    <tr>\n",
       "      <th>3</th>\n",
       "      <td>0</td>\n",
       "      <td>1</td>\n",
       "      <td>3</td>\n",
       "      <td>4</td>\n",
       "      <td>310.62</td>\n",
       "      <td>344.90</td>\n",
       "      <td>342.09</td>\n",
       "      <td>340.69</td>\n",
       "      <td>0</td>\n",
       "      <td>0</td>\n",
       "      <td>...</td>\n",
       "      <td>0.666667</td>\n",
       "      <td>1625.519</td>\n",
       "      <td>0.0</td>\n",
       "      <td>472.968</td>\n",
       "      <td>12.0</td>\n",
       "      <td>1.9</td>\n",
       "      <td>34.28</td>\n",
       "      <td>1</td>\n",
       "      <td>2020</td>\n",
       "      <td>1</td>\n",
       "    </tr>\n",
       "    <tr>\n",
       "      <th>4</th>\n",
       "      <td>0</td>\n",
       "      <td>1</td>\n",
       "      <td>3</td>\n",
       "      <td>5</td>\n",
       "      <td>282.84</td>\n",
       "      <td>329.55</td>\n",
       "      <td>253.99</td>\n",
       "      <td>320.81</td>\n",
       "      <td>1</td>\n",
       "      <td>0</td>\n",
       "      <td>...</td>\n",
       "      <td>0.666667</td>\n",
       "      <td>1502.951</td>\n",
       "      <td>0.0</td>\n",
       "      <td>471.125</td>\n",
       "      <td>12.0</td>\n",
       "      <td>1.9</td>\n",
       "      <td>46.71</td>\n",
       "      <td>1</td>\n",
       "      <td>2020</td>\n",
       "      <td>1</td>\n",
       "    </tr>\n",
       "  </tbody>\n",
       "</table>\n",
       "<p>5 rows × 28 columns</p>\n",
       "</div>"
      ]
     },
     "execution_count": 44,
     "metadata": {},
     "output_type": "execute_result"
    }
   ],
   "source": [
    "DF_node_clean = DF_node.drop(['clanodo'], axis=1);\n",
    "DF_node_clean = DF_node_clean.drop(['fecha'], axis=1);DF_node_clean.head()\n",
    "DF_node_clean = DF_node_clean.drop(['fecha_h'], axis=1);DF_node_clean.head()"
   ]
  },
  {
   "cell_type": "markdown",
   "id": "2feb5916-426b-41fc-9a02-e8085d251a8c",
   "metadata": {},
   "source": [
    "# Identifiy NULL Values"
   ]
  },
  {
   "cell_type": "code",
   "execution_count": 45,
   "id": "a13bfb54-3732-4436-bd12-a9d28028954f",
   "metadata": {},
   "outputs": [
    {
     "data": {
      "text/html": [
       "<pre style=\"white-space:pre;overflow-x:auto;line-height:normal;font-family:Menlo,'DejaVu Sans Mono',consolas,'Courier New',monospace\">\n",
       "festivo             <span style=\"color: #008080; text-decoration-color: #008080; font-weight: bold\">0</span>\n",
       "mes                 <span style=\"color: #008080; text-decoration-color: #008080; font-weight: bold\">0</span>\n",
       "diaSemana           <span style=\"color: #008080; text-decoration-color: #008080; font-weight: bold\">0</span>\n",
       "hora                <span style=\"color: #008080; text-decoration-color: #008080; font-weight: bold\">0</span>\n",
       "mda                 <span style=\"color: #008080; text-decoration-color: #008080; font-weight: bold\">0</span>\n",
       "mtr               <span style=\"color: #008080; text-decoration-color: #008080; font-weight: bold\">168</span>\n",
       "mda7                <span style=\"color: #008080; text-decoration-color: #008080; font-weight: bold\">4</span>\n",
       "mtr7                <span style=\"color: #008080; text-decoration-color: #008080; font-weight: bold\">4</span>\n",
       "ypast7              <span style=\"color: #008080; text-decoration-color: #008080; font-weight: bold\">0</span>\n",
       "festivo7            <span style=\"color: #008080; text-decoration-color: #008080; font-weight: bold\">0</span>\n",
       "mda14               <span style=\"color: #008080; text-decoration-color: #008080; font-weight: bold\">4</span>\n",
       "mtr14              <span style=\"color: #008080; text-decoration-color: #008080; font-weight: bold\">28</span>\n",
       "ypast14             <span style=\"color: #008080; text-decoration-color: #008080; font-weight: bold\">0</span>\n",
       "festivo14           <span style=\"color: #008080; text-decoration-color: #008080; font-weight: bold\">0</span>\n",
       "mda52               <span style=\"color: #008080; text-decoration-color: #008080; font-weight: bold\">1</span>\n",
       "mtr52              <span style=\"color: #008080; text-decoration-color: #008080; font-weight: bold\">25</span>\n",
       "ypast52             <span style=\"color: #008080; text-decoration-color: #008080; font-weight: bold\">0</span>\n",
       "festivo52           <span style=\"color: #008080; text-decoration-color: #008080; font-weight: bold\">0</span>\n",
       "ypast3avg         <span style=\"color: #008080; text-decoration-color: #008080; font-weight: bold\">152</span>\n",
       "eolica              <span style=\"color: #008080; text-decoration-color: #008080; font-weight: bold\">0</span>\n",
       "fotovol             <span style=\"color: #008080; text-decoration-color: #008080; font-weight: bold\">0</span>\n",
       "demanda            <span style=\"color: #008080; text-decoration-color: #008080; font-weight: bold\">24</span>\n",
       "temperatura       <span style=\"color: #008080; text-decoration-color: #008080; font-weight: bold\">123</span>\n",
       "hsc                 <span style=\"color: #008080; text-decoration-color: #008080; font-weight: bold\">0</span>\n",
       "DART <span style=\"font-weight: bold\">(</span>MXN/MWh<span style=\"font-weight: bold\">)</span>    <span style=\"color: #008080; text-decoration-color: #008080; font-weight: bold\">168</span>\n",
       "DARTbin             <span style=\"color: #008080; text-decoration-color: #008080; font-weight: bold\">0</span>\n",
       "Year                <span style=\"color: #008080; text-decoration-color: #008080; font-weight: bold\">0</span>\n",
       "Day                 <span style=\"color: #008080; text-decoration-color: #008080; font-weight: bold\">0</span>\n",
       "dtype: int64\n",
       "</pre>\n"
      ],
      "text/plain": [
       "\n",
       "festivo             \u001b[1;36m0\u001b[0m\n",
       "mes                 \u001b[1;36m0\u001b[0m\n",
       "diaSemana           \u001b[1;36m0\u001b[0m\n",
       "hora                \u001b[1;36m0\u001b[0m\n",
       "mda                 \u001b[1;36m0\u001b[0m\n",
       "mtr               \u001b[1;36m168\u001b[0m\n",
       "mda7                \u001b[1;36m4\u001b[0m\n",
       "mtr7                \u001b[1;36m4\u001b[0m\n",
       "ypast7              \u001b[1;36m0\u001b[0m\n",
       "festivo7            \u001b[1;36m0\u001b[0m\n",
       "mda14               \u001b[1;36m4\u001b[0m\n",
       "mtr14              \u001b[1;36m28\u001b[0m\n",
       "ypast14             \u001b[1;36m0\u001b[0m\n",
       "festivo14           \u001b[1;36m0\u001b[0m\n",
       "mda52               \u001b[1;36m1\u001b[0m\n",
       "mtr52              \u001b[1;36m25\u001b[0m\n",
       "ypast52             \u001b[1;36m0\u001b[0m\n",
       "festivo52           \u001b[1;36m0\u001b[0m\n",
       "ypast3avg         \u001b[1;36m152\u001b[0m\n",
       "eolica              \u001b[1;36m0\u001b[0m\n",
       "fotovol             \u001b[1;36m0\u001b[0m\n",
       "demanda            \u001b[1;36m24\u001b[0m\n",
       "temperatura       \u001b[1;36m123\u001b[0m\n",
       "hsc                 \u001b[1;36m0\u001b[0m\n",
       "DART \u001b[1m(\u001b[0mMXN/MWh\u001b[1m)\u001b[0m    \u001b[1;36m168\u001b[0m\n",
       "DARTbin             \u001b[1;36m0\u001b[0m\n",
       "Year                \u001b[1;36m0\u001b[0m\n",
       "Day                 \u001b[1;36m0\u001b[0m\n",
       "dtype: int64\n"
      ]
     },
     "metadata": {},
     "output_type": "display_data"
    }
   ],
   "source": [
    "DF_node_clean.isna().sum()"
   ]
  },
  {
   "cell_type": "code",
   "execution_count": 46,
   "id": "25753c0f-ec65-44df-add3-f5f0845d2628",
   "metadata": {},
   "outputs": [
    {
     "name": "stdout",
     "output_type": "stream",
     "text": [
      "<class 'pandas.core.frame.DataFrame'>\n",
      "Int64Index: 19211 entries, 0 to 19631\n",
      "Data columns (total 28 columns):\n",
      " #   Column          Non-Null Count  Dtype  \n",
      "---  ------          --------------  -----  \n",
      " 0   festivo         19211 non-null  int64  \n",
      " 1   mes             19211 non-null  int64  \n",
      " 2   diaSemana       19211 non-null  int64  \n",
      " 3   hora            19211 non-null  int64  \n",
      " 4   mda             19211 non-null  float64\n",
      " 5   mtr             19211 non-null  float64\n",
      " 6   mda7            19211 non-null  float64\n",
      " 7   mtr7            19211 non-null  float64\n",
      " 8   ypast7          19211 non-null  int64  \n",
      " 9   festivo7        19211 non-null  int64  \n",
      " 10  mda14           19211 non-null  float64\n",
      " 11  mtr14           19211 non-null  float64\n",
      " 12  ypast14         19211 non-null  int64  \n",
      " 13  festivo14       19211 non-null  int64  \n",
      " 14  mda52           19211 non-null  float64\n",
      " 15  mtr52           19211 non-null  float64\n",
      " 16  ypast52         19211 non-null  int64  \n",
      " 17  festivo52       19211 non-null  int64  \n",
      " 18  ypast3avg       19211 non-null  float64\n",
      " 19  eolica          19211 non-null  float64\n",
      " 20  fotovol         19211 non-null  float64\n",
      " 21  demanda         19211 non-null  float64\n",
      " 22  temperatura     19211 non-null  float64\n",
      " 23  hsc             19211 non-null  float64\n",
      " 24  DART (MXN/MWh)  19211 non-null  float64\n",
      " 25  DARTbin         19211 non-null  int64  \n",
      " 26  Year            19211 non-null  int64  \n",
      " 27  Day             19211 non-null  int64  \n",
      "dtypes: float64(15), int64(13)\n",
      "memory usage: 4.3 MB\n"
     ]
    }
   ],
   "source": [
    "DF_node_clean=DF_node_clean.dropna();DF_node_clean.info()"
   ]
  },
  {
   "cell_type": "markdown",
   "id": "bfca8d77-5fed-48d0-91c7-42d300c5a44f",
   "metadata": {},
   "source": [
    "# Visualizing DART"
   ]
  },
  {
   "cell_type": "code",
   "execution_count": 48,
   "id": "adea1c95-3ac2-4fb7-80e9-09f8f403da76",
   "metadata": {},
   "outputs": [
    {
     "data": {
      "text/html": [
       "<pre style=\"white-space:pre;overflow-x:auto;line-height:normal;font-family:Menlo,'DejaVu Sans Mono',consolas,'Courier New',monospace\"><span style=\"font-weight: bold\">&lt;</span><span style=\"color: #ff00ff; text-decoration-color: #ff00ff; font-weight: bold\">Figure</span><span style=\"color: #000000; text-decoration-color: #000000\"> size 1152x576 with </span><span style=\"color: #008080; text-decoration-color: #008080; font-weight: bold\">1</span><span style=\"color: #000000; text-decoration-color: #000000\"> Axes</span><span style=\"font-weight: bold\">&gt;</span>\n",
       "</pre>\n"
      ],
      "text/plain": [
       "\u001b[1m<\u001b[0m\u001b[1;95mFigure\u001b[0m\u001b[39m size 1152x576 with \u001b[0m\u001b[1;36m1\u001b[0m\u001b[39m Axes\u001b[0m\u001b[1m>\u001b[0m\n"
      ]
     },
     "metadata": {},
     "output_type": "display_data"
    },
    {
     "data": {
      "image/png": "[encoded data removed]"
     },
     "metadata": {},
     "output_type": "display_data"
    }
   ],
   "source": [
    "fig, ax = plt.subplots()\n",
    "sns.set(rc={\"figure.figsize\":(16, 8)})\n",
    "sns.histplot(data=DF_node_clean, x='DART (MXN/MWh)', kde=True)\n",
    "ax.set_xlim(-2000, 2000)\n",
    "plt.show()"
   ]
  },
  {
   "cell_type": "markdown",
   "id": "2457244e-251f-47bf-a1e9-a30b295e1e54",
   "metadata": {},
   "source": [
    "# The data is balanced"
   ]
  },
  {
   "cell_type": "code",
   "execution_count": 49,
   "id": "5f2c8716-f85f-4f1a-be50-349a688bf2a6",
   "metadata": {},
   "outputs": [
    {
     "name": "stderr",
     "output_type": "stream",
     "text": [
      "Pass the following variable as a keyword arg: x. From version 0.12, the only valid positional argument will be `data`, and passing other arguments without an explicit keyword will result in an error or misinterpretation.\n"
     ]
    },
    {
     "data": {
      "text/html": [
       "<pre style=\"white-space:pre;overflow-x:auto;line-height:normal;font-family:Menlo,'DejaVu Sans Mono',consolas,'Courier New',monospace\"><span style=\"font-weight: bold\">&lt;</span><span style=\"color: #ff00ff; text-decoration-color: #ff00ff; font-weight: bold\">Figure</span><span style=\"color: #000000; text-decoration-color: #000000\"> size 576x288 with </span><span style=\"color: #008080; text-decoration-color: #008080; font-weight: bold\">1</span><span style=\"color: #000000; text-decoration-color: #000000\"> Axes</span><span style=\"font-weight: bold\">&gt;</span>\n",
       "</pre>\n"
      ],
      "text/plain": [
       "\u001b[1m<\u001b[0m\u001b[1;95mFigure\u001b[0m\u001b[39m size 576x288 with \u001b[0m\u001b[1;36m1\u001b[0m\u001b[39m Axes\u001b[0m\u001b[1m>\u001b[0m\n"
      ]
     },
     "metadata": {},
     "output_type": "display_data"
    },
    {
     "data": {
      "image/png": "[encoded data removed]"
     },
     "metadata": {},
     "output_type": "display_data"
    }
   ],
   "source": [
    "sns.set(rc={\"figure.figsize\":(8, 4)})\n",
    "sns.countplot(DF['DARTbin'])\n",
    "plt.show()"
   ]
  },
  {
   "cell_type": "code",
   "execution_count": 50,
   "id": "1e96c09f-cbc3-4e83-ae1c-3e41bea09941",
   "metadata": {},
   "outputs": [
    {
     "data": {
      "text/html": [
       "<div>\n",
       "<style scoped>\n",
       "    .dataframe tbody tr th:only-of-type {\n",
       "        vertical-align: middle;\n",
       "    }\n",
       "\n",
       "    .dataframe tbody tr th {\n",
       "        vertical-align: top;\n",
       "    }\n",
       "\n",
       "    .dataframe thead th {\n",
       "        text-align: right;\n",
       "    }\n",
       "</style>\n",
       "<table border=\"1\" class=\"dataframe\">\n",
       "  <thead>\n",
       "    <tr style=\"text-align: right;\">\n",
       "      <th></th>\n",
       "      <th>festivo</th>\n",
       "      <th>mes</th>\n",
       "      <th>diaSemana</th>\n",
       "      <th>hora</th>\n",
       "      <th>mda</th>\n",
       "      <th>mtr</th>\n",
       "      <th>mda7</th>\n",
       "      <th>mtr7</th>\n",
       "      <th>ypast7</th>\n",
       "      <th>festivo7</th>\n",
       "      <th>...</th>\n",
       "      <th>ypast3avg</th>\n",
       "      <th>eolica</th>\n",
       "      <th>fotovol</th>\n",
       "      <th>demanda</th>\n",
       "      <th>temperatura</th>\n",
       "      <th>hsc</th>\n",
       "      <th>DART (MXN/MWh)</th>\n",
       "      <th>DARTbin</th>\n",
       "      <th>Year</th>\n",
       "      <th>Day</th>\n",
       "    </tr>\n",
       "  </thead>\n",
       "  <tbody>\n",
       "    <tr>\n",
       "      <th>count</th>\n",
       "      <td>19211.000000</td>\n",
       "      <td>19211.000000</td>\n",
       "      <td>19211.000000</td>\n",
       "      <td>19211.000000</td>\n",
       "      <td>19211.000000</td>\n",
       "      <td>19211.000000</td>\n",
       "      <td>19211.000000</td>\n",
       "      <td>19211.000000</td>\n",
       "      <td>19211.000000</td>\n",
       "      <td>19211.000000</td>\n",
       "      <td>...</td>\n",
       "      <td>19211.000000</td>\n",
       "      <td>19211.000000</td>\n",
       "      <td>19211.000000</td>\n",
       "      <td>19211.000000</td>\n",
       "      <td>19211.000000</td>\n",
       "      <td>19211.000000</td>\n",
       "      <td>19211.000000</td>\n",
       "      <td>19211.000000</td>\n",
       "      <td>19211.000000</td>\n",
       "      <td>19211.000000</td>\n",
       "    </tr>\n",
       "    <tr>\n",
       "      <th>mean</th>\n",
       "      <td>0.014991</td>\n",
       "      <td>6.112540</td>\n",
       "      <td>3.977096</td>\n",
       "      <td>12.492218</td>\n",
       "      <td>739.494651</td>\n",
       "      <td>733.984536</td>\n",
       "      <td>752.370739</td>\n",
       "      <td>744.539148</td>\n",
       "      <td>0.448493</td>\n",
       "      <td>0.011244</td>\n",
       "      <td>...</td>\n",
       "      <td>0.452380</td>\n",
       "      <td>2376.995395</td>\n",
       "      <td>1798.234891</td>\n",
       "      <td>570.506816</td>\n",
       "      <td>18.800687</td>\n",
       "      <td>3.151874</td>\n",
       "      <td>-5.510115</td>\n",
       "      <td>0.451304</td>\n",
       "      <td>2020.645568</td>\n",
       "      <td>15.404456</td>\n",
       "    </tr>\n",
       "    <tr>\n",
       "      <th>std</th>\n",
       "      <td>0.121521</td>\n",
       "      <td>3.548142</td>\n",
       "      <td>1.993220</td>\n",
       "      <td>6.918239</td>\n",
       "      <td>327.092825</td>\n",
       "      <td>396.658842</td>\n",
       "      <td>394.402340</td>\n",
       "      <td>452.307292</td>\n",
       "      <td>0.497353</td>\n",
       "      <td>0.105441</td>\n",
       "      <td>...</td>\n",
       "      <td>0.339341</td>\n",
       "      <td>907.719441</td>\n",
       "      <td>2104.565461</td>\n",
       "      <td>83.726008</td>\n",
       "      <td>5.945395</td>\n",
       "      <td>6.380773</td>\n",
       "      <td>373.248293</td>\n",
       "      <td>0.497636</td>\n",
       "      <td>0.656671</td>\n",
       "      <td>9.007618</td>\n",
       "    </tr>\n",
       "    <tr>\n",
       "      <th>min</th>\n",
       "      <td>0.000000</td>\n",
       "      <td>1.000000</td>\n",
       "      <td>1.000000</td>\n",
       "      <td>1.000000</td>\n",
       "      <td>0.000000</td>\n",
       "      <td>177.240000</td>\n",
       "      <td>0.000000</td>\n",
       "      <td>177.240000</td>\n",
       "      <td>0.000000</td>\n",
       "      <td>0.000000</td>\n",
       "      <td>...</td>\n",
       "      <td>0.000000</td>\n",
       "      <td>255.999000</td>\n",
       "      <td>0.000000</td>\n",
       "      <td>279.931000</td>\n",
       "      <td>-2.000000</td>\n",
       "      <td>1.380000</td>\n",
       "      <td>-6252.850000</td>\n",
       "      <td>0.000000</td>\n",
       "      <td>2020.000000</td>\n",
       "      <td>1.000000</td>\n",
       "    </tr>\n",
       "    <tr>\n",
       "      <th>25%</th>\n",
       "      <td>0.000000</td>\n",
       "      <td>3.000000</td>\n",
       "      <td>2.000000</td>\n",
       "      <td>6.000000</td>\n",
       "      <td>535.345000</td>\n",
       "      <td>538.040000</td>\n",
       "      <td>531.610000</td>\n",
       "      <td>534.840000</td>\n",
       "      <td>0.000000</td>\n",
       "      <td>0.000000</td>\n",
       "      <td>...</td>\n",
       "      <td>0.333333</td>\n",
       "      <td>1700.093000</td>\n",
       "      <td>0.000000</td>\n",
       "      <td>515.092500</td>\n",
       "      <td>15.000000</td>\n",
       "      <td>1.900000</td>\n",
       "      <td>-62.575000</td>\n",
       "      <td>0.000000</td>\n",
       "      <td>2020.000000</td>\n",
       "      <td>7.000000</td>\n",
       "    </tr>\n",
       "    <tr>\n",
       "      <th>50%</th>\n",
       "      <td>0.000000</td>\n",
       "      <td>6.000000</td>\n",
       "      <td>4.000000</td>\n",
       "      <td>12.000000</td>\n",
       "      <td>676.560000</td>\n",
       "      <td>677.330000</td>\n",
       "      <td>673.750000</td>\n",
       "      <td>675.770000</td>\n",
       "      <td>0.000000</td>\n",
       "      <td>0.000000</td>\n",
       "      <td>...</td>\n",
       "      <td>0.333333</td>\n",
       "      <td>2370.433000</td>\n",
       "      <td>243.669000</td>\n",
       "      <td>571.787000</td>\n",
       "      <td>19.000000</td>\n",
       "      <td>2.685000</td>\n",
       "      <td>-7.290000</td>\n",
       "      <td>0.000000</td>\n",
       "      <td>2021.000000</td>\n",
       "      <td>16.000000</td>\n",
       "    </tr>\n",
       "    <tr>\n",
       "      <th>75%</th>\n",
       "      <td>0.000000</td>\n",
       "      <td>9.000000</td>\n",
       "      <td>6.000000</td>\n",
       "      <td>18.000000</td>\n",
       "      <td>868.535000</td>\n",
       "      <td>834.220000</td>\n",
       "      <td>868.365000</td>\n",
       "      <td>832.525000</td>\n",
       "      <td>1.000000</td>\n",
       "      <td>0.000000</td>\n",
       "      <td>...</td>\n",
       "      <td>0.666667</td>\n",
       "      <td>3043.490500</td>\n",
       "      <td>3980.901000</td>\n",
       "      <td>620.918500</td>\n",
       "      <td>23.000000</td>\n",
       "      <td>3.835000</td>\n",
       "      <td>39.735000</td>\n",
       "      <td>1.000000</td>\n",
       "      <td>2021.000000</td>\n",
       "      <td>23.000000</td>\n",
       "    </tr>\n",
       "    <tr>\n",
       "      <th>max</th>\n",
       "      <td>1.000000</td>\n",
       "      <td>12.000000</td>\n",
       "      <td>7.000000</td>\n",
       "      <td>24.000000</td>\n",
       "      <td>7125.060000</td>\n",
       "      <td>7234.920000</td>\n",
       "      <td>7125.060000</td>\n",
       "      <td>7234.920000</td>\n",
       "      <td>1.000000</td>\n",
       "      <td>1.000000</td>\n",
       "      <td>...</td>\n",
       "      <td>1.000000</td>\n",
       "      <td>5335.031000</td>\n",
       "      <td>6251.815000</td>\n",
       "      <td>1258.226000</td>\n",
       "      <td>34.000000</td>\n",
       "      <td>180.660000</td>\n",
       "      <td>5824.840000</td>\n",
       "      <td>1.000000</td>\n",
       "      <td>2022.000000</td>\n",
       "      <td>31.000000</td>\n",
       "    </tr>\n",
       "  </tbody>\n",
       "</table>\n",
       "<p>8 rows × 28 columns</p>\n",
       "</div>"
      ]
     },
     "execution_count": 50,
     "metadata": {},
     "output_type": "execute_result"
    }
   ],
   "source": [
    "DF_node_clean.describe()"
   ]
  },
  {
   "cell_type": "markdown",
   "id": "9dcf2ecc-2998-449c-9a84-ac6024616442",
   "metadata": {},
   "source": [
    "# Creating Train and Test Data"
   ]
  },
  {
   "cell_type": "code",
   "execution_count": 51,
   "id": "89e47b70-5164-48b1-a484-2e33c082b7a6",
   "metadata": {},
   "outputs": [],
   "source": [
    "X_data_clean = DF_node_clean.drop(['DART (MXN/MWh)'], axis=1)\n",
    "X_data_clean = X_data_clean.drop(['DARTbin'], axis=1)\n",
    "X_data_clean = X_data_clean.drop(['mda'], axis=1)\n",
    "X_data_clean = X_data_clean.drop(['mtr'], axis=1)\n",
    "X_data_clean = X_data_clean.drop(['mda52'], axis=1)\n",
    "X_data_clean = X_data_clean.drop(['mtr52'], axis=1)\n",
    "X_data_clean = X_data_clean.drop(['ypast52'], axis=1)\n",
    "X_data_clean = X_data_clean.drop(['festivo52'], axis=1)\n",
    "y_data_clean = DF_node_clean['DARTbin']"
   ]
  },
  {
   "cell_type": "code",
   "execution_count": 52,
   "id": "dca0e76d-df98-4c21-b1e4-44911030b57a",
   "metadata": {},
   "outputs": [],
   "source": [
    "X_train, X_test, y_train, y_test = train_test_split(X_data_clean, y_data_clean, test_size=0.33)"
   ]
  },
  {
   "cell_type": "markdown",
   "id": "38eee610-ec75-43f4-9c1a-57f934465189",
   "metadata": {},
   "source": [
    "# Dummy Model"
   ]
  },
  {
   "cell_type": "code",
   "execution_count": 53,
   "id": "db070a60-24c1-4e9d-807a-ceb09ca502d0",
   "metadata": {},
   "outputs": [
    {
     "data": {
      "text/html": [
       "<pre style=\"white-space:pre;overflow-x:auto;line-height:normal;font-family:Menlo,'DejaVu Sans Mono',consolas,'Courier New',monospace\"><span style=\"font-weight: bold\">(</span><span style=\"color: #008080; text-decoration-color: #008080; font-weight: bold\">0.4916403785488959</span>, <span style=\"color: #008080; text-decoration-color: #008080; font-weight: bold\">0.4509068167604753</span>, <span style=\"color: #008080; text-decoration-color: #008080; font-weight: bold\">0.49570299071845997</span><span style=\"font-weight: bold\">)</span>\n",
       "</pre>\n"
      ],
      "text/plain": [
       "\u001b[1m(\u001b[0m\u001b[1;36m0.4916403785488959\u001b[0m, \u001b[1;36m0.4509068167604753\u001b[0m, \u001b[1;36m0.49570299071845997\u001b[0m\u001b[1m)\u001b[0m\n"
      ]
     },
     "metadata": {},
     "output_type": "display_data"
    }
   ],
   "source": [
    "dc = DummyClassifier(strategy='uniform').fit(X_train, y_train)\n",
    "yhat_dc = dc.predict(X_test)\n",
    "accuracy_score(y_test, yhat_dc), precision_score(y_test, yhat_dc), recall_score(y_test, yhat_dc)"
   ]
  },
  {
   "cell_type": "markdown",
   "id": "aedcf53a-ba54-4c0a-b6a1-c5509189ab02",
   "metadata": {},
   "source": [
    "# Default Models"
   ]
  },
  {
   "cell_type": "code",
   "execution_count": 54,
   "id": "d750cfad-1fd0-4c2b-a83a-7d20eb3439e6",
   "metadata": {},
   "outputs": [
    {
     "name": "stderr",
     "output_type": "stream",
     "text": [
      "lbfgs failed to converge (status=1):\n",
      "STOP: TOTAL NO. of ITERATIONS REACHED LIMIT.\n",
      "\n",
      "Increase the number of iterations (max_iter) or scale the data as shown in:\n",
      "    https://scikit-learn.org/stable/modules/preprocessing.html\n",
      "Please also refer to the documentation for alternative solver options:\n",
      "    https://scikit-learn.org/stable/modules/linear_model.html#logistic-regression\n",
      "The use of label encoder in XGBClassifier is deprecated and will be removed in a future release. To remove this warning, do the following: 1) Pass option use_label_encoder=False when constructing XGBClassifier object; and 2) Encode your labels (y) as integers starting with 0, i.e. 0, 1, 2, ..., [num_class - 1].\n"
     ]
    },
    {
     "name": "stdout",
     "output_type": "stream",
     "text": [
      "[09:08:55] WARNING: C:/Users/Administrator/workspace/xgboost-win64_release_1.5.1/src/learner.cc:1115: Starting in XGBoost 1.3.0, the default evaluation metric used with the objective 'binary:logistic' was changed from 'error' to 'logloss'. Explicitly set eval_metric if you'd like to restore the old behavior.\n",
      "LogisticRegression acc:  0.5919558359621451\n",
      "LogisticRegression prec:  0.5912698412698413\n",
      "LogisticRegression recc:  0.35854245445170163\n",
      "DecisionTreeClassifier acc:  0.7048895899053628\n",
      "DecisionTreeClassifier prec:  0.676530612244898\n",
      "DecisionTreeClassifier recc:  0.6837401168786524\n",
      "RandomForestClassifier acc:  0.7995268138801261\n",
      "RandomForestClassifier prec:  0.8109339407744874\n",
      "RandomForestClassifier recc:  0.7342729460295634\n",
      "XGBClassifier acc:  0.7656151419558359\n",
      "XGBClassifier prec:  0.7696097006441834\n",
      "XGBClassifier recc:  0.698178068064627\n"
     ]
    }
   ],
   "source": [
    "candidates = [LogisticRegression, DecisionTreeClassifier, RandomForestClassifier, XGBClassifier]\n",
    "accuracies = np.zeros(len(candidates))\n",
    "precision = np.zeros(len(candidates))\n",
    "recall = np.zeros(len(candidates))\n",
    "for i, Model in enumerate(candidates):\n",
    "    model = Model().fit(X_train, y_train)\n",
    "    yhat = model.predict(X_test)\n",
    "    acc = accuracy_score(y_test, yhat)\n",
    "    prec = precision_score(y_test, yhat)\n",
    "    rec = recall_score(y_test, yhat)\n",
    "    accuracies[i] = acc\n",
    "    precision[i] = prec\n",
    "    recall[i] = rec\n",
    "for i, c in enumerate(candidates):\n",
    "    print(c.__name__,\"acc: \",accuracies[i])\n",
    "    print(c.__name__,\"prec: \",precision[i])\n",
    "    print(c.__name__,\"recc: \",recall[i])"
   ]
  },
  {
   "cell_type": "code",
   "execution_count": 55,
   "id": "0e846e5c-9edb-4e66-9789-64d0bac7cf60",
   "metadata": {},
   "outputs": [
    {
     "data": {
      "text/html": [
       "<pre style=\"white-space:pre;overflow-x:auto;line-height:normal;font-family:Menlo,'DejaVu Sans Mono',consolas,'Courier New',monospace\"><span style=\"font-weight: bold\">&lt;</span><span style=\"color: #ff00ff; text-decoration-color: #ff00ff; font-weight: bold\">Figure</span><span style=\"color: #000000; text-decoration-color: #000000\"> size 576x288 with </span><span style=\"color: #008080; text-decoration-color: #008080; font-weight: bold\">1</span><span style=\"color: #000000; text-decoration-color: #000000\"> Axes</span><span style=\"font-weight: bold\">&gt;</span>\n",
       "</pre>\n"
      ],
      "text/plain": [
       "\u001b[1m<\u001b[0m\u001b[1;95mFigure\u001b[0m\u001b[39m size 576x288 with \u001b[0m\u001b[1;36m1\u001b[0m\u001b[39m Axes\u001b[0m\u001b[1m>\u001b[0m\n"
      ]
     },
     "metadata": {},
     "output_type": "display_data"
    },
    {
     "data": {
      "image/png": "[encoded data removed]"
     },
     "metadata": {},
     "output_type": "display_data"
    }
   ],
   "source": [
    "plt.bar([c.__name__ for c in candidates], accuracies, alpha=0.7)\n",
    "plt.xticks(rotation=45)\n",
    "plt.axhline(y=0.5001, linewidth=1, color='k')\n",
    "plt.title(\"Accuracy Score\");"
   ]
  },
  {
   "cell_type": "code",
   "execution_count": 56,
   "id": "2e7abc58-26ca-45ef-a2d8-2e8e549dac73",
   "metadata": {},
   "outputs": [
    {
     "data": {
      "text/html": [
       "<pre style=\"white-space:pre;overflow-x:auto;line-height:normal;font-family:Menlo,'DejaVu Sans Mono',consolas,'Courier New',monospace\"><span style=\"color: #800080; text-decoration-color: #800080; font-weight: bold\">Text</span><span style=\"font-weight: bold\">(</span><span style=\"color: #008080; text-decoration-color: #008080; font-weight: bold\">0.5</span>, <span style=\"color: #008080; text-decoration-color: #008080; font-weight: bold\">1.0</span>, <span style=\"color: #008000; text-decoration-color: #008000\">'Precision Score'</span><span style=\"font-weight: bold\">)</span>\n",
       "</pre>\n"
      ],
      "text/plain": [
       "\u001b[1;35mText\u001b[0m\u001b[1m(\u001b[0m\u001b[1;36m0.5\u001b[0m, \u001b[1;36m1.0\u001b[0m, \u001b[32m'Precision Score'\u001b[0m\u001b[1m)\u001b[0m\n"
      ]
     },
     "metadata": {},
     "output_type": "display_data"
    },
    {
     "data": {
      "text/html": [
       "<pre style=\"white-space:pre;overflow-x:auto;line-height:normal;font-family:Menlo,'DejaVu Sans Mono',consolas,'Courier New',monospace\"><span style=\"font-weight: bold\">&lt;</span><span style=\"color: #ff00ff; text-decoration-color: #ff00ff; font-weight: bold\">Figure</span><span style=\"color: #000000; text-decoration-color: #000000\"> size 576x288 with </span><span style=\"color: #008080; text-decoration-color: #008080; font-weight: bold\">1</span><span style=\"color: #000000; text-decoration-color: #000000\"> Axes</span><span style=\"font-weight: bold\">&gt;</span>\n",
       "</pre>\n"
      ],
      "text/plain": [
       "\u001b[1m<\u001b[0m\u001b[1;95mFigure\u001b[0m\u001b[39m size 576x288 with \u001b[0m\u001b[1;36m1\u001b[0m\u001b[39m Axes\u001b[0m\u001b[1m>\u001b[0m\n"
      ]
     },
     "metadata": {},
     "output_type": "display_data"
    },
    {
     "data": {
      "image/png": "[encoded data removed]"
     },
     "metadata": {},
     "output_type": "display_data"
    }
   ],
   "source": [
    "plt.bar([c.__name__ for c in candidates], precision,  alpha=0.7)\n",
    "plt.xticks(rotation=45)\n",
    "plt.axhline(y=0.4556, linewidth=1, color='k')\n",
    "plt.title(\"Precision Score\")"
   ]
  },
  {
   "cell_type": "code",
   "execution_count": 57,
   "id": "0dfeca18-1c98-4f99-bcae-29ce83e46885",
   "metadata": {},
   "outputs": [
    {
     "data": {
      "text/html": [
       "<pre style=\"white-space:pre;overflow-x:auto;line-height:normal;font-family:Menlo,'DejaVu Sans Mono',consolas,'Courier New',monospace\"><span style=\"color: #800080; text-decoration-color: #800080; font-weight: bold\">Text</span><span style=\"font-weight: bold\">(</span><span style=\"color: #008080; text-decoration-color: #008080; font-weight: bold\">0.5</span>, <span style=\"color: #008080; text-decoration-color: #008080; font-weight: bold\">1.0</span>, <span style=\"color: #008000; text-decoration-color: #008000\">'Recall Score'</span><span style=\"font-weight: bold\">)</span>\n",
       "</pre>\n"
      ],
      "text/plain": [
       "\u001b[1;35mText\u001b[0m\u001b[1m(\u001b[0m\u001b[1;36m0.5\u001b[0m, \u001b[1;36m1.0\u001b[0m, \u001b[32m'Recall Score'\u001b[0m\u001b[1m)\u001b[0m\n"
      ]
     },
     "metadata": {},
     "output_type": "display_data"
    },
    {
     "data": {
      "text/html": [
       "<pre style=\"white-space:pre;overflow-x:auto;line-height:normal;font-family:Menlo,'DejaVu Sans Mono',consolas,'Courier New',monospace\"><span style=\"font-weight: bold\">&lt;</span><span style=\"color: #ff00ff; text-decoration-color: #ff00ff; font-weight: bold\">Figure</span><span style=\"color: #000000; text-decoration-color: #000000\"> size 576x288 with </span><span style=\"color: #008080; text-decoration-color: #008080; font-weight: bold\">1</span><span style=\"color: #000000; text-decoration-color: #000000\"> Axes</span><span style=\"font-weight: bold\">&gt;</span>\n",
       "</pre>\n"
      ],
      "text/plain": [
       "\u001b[1m<\u001b[0m\u001b[1;95mFigure\u001b[0m\u001b[39m size 576x288 with \u001b[0m\u001b[1;36m1\u001b[0m\u001b[39m Axes\u001b[0m\u001b[1m>\u001b[0m\n"
      ]
     },
     "metadata": {},
     "output_type": "display_data"
    },
    {
     "data": {
      "image/png": "[encoded data removed]"
     },
     "metadata": {},
     "output_type": "display_data"
    }
   ],
   "source": [
    "plt.bar([c.__name__ for c in candidates], recall, alpha=0.7)\n",
    "plt.xticks(rotation=45)\n",
    "plt.axhline(y=0.4972, linewidth=1, color='k')\n",
    "plt.title(\"Recall Score\")"
   ]
  },
  {
   "cell_type": "markdown",
   "id": "b7b77576-55f8-4eb1-a4ef-5e1ef4a16217",
   "metadata": {},
   "source": [
    "# GridSearch XGBoost"
   ]
  },
  {
   "cell_type": "code",
   "execution_count": 59,
   "id": "bde7692e-10b7-4111-96c8-7caf14a44595",
   "metadata": {},
   "outputs": [
    {
     "name": "stdout",
     "output_type": "stream",
     "text": [
      "Fitting 5 folds for each of 48 candidates, totalling 240 fits\n",
      "[09:15:32] WARNING: C:/Users/Administrator/workspace/xgboost-win64_release_1.5.1/src/learner.cc:1115: Starting in XGBoost 1.3.0, the default evaluation metric used with the objective 'binary:logistic' was changed from 'error' to 'logloss'. Explicitly set eval_metric if you'd like to restore the old behavior.\n"
     ]
    },
    {
     "data": {
      "text/html": [
       "<pre style=\"white-space:pre;overflow-x:auto;line-height:normal;font-family:Menlo,'DejaVu Sans Mono',consolas,'Courier New',monospace\"><span style=\"font-weight: bold\">(</span><span style=\"color: #008080; text-decoration-color: #008080; font-weight: bold\">0.7511002132742659</span>, <span style=\"font-weight: bold\">{</span><span style=\"color: #008000; text-decoration-color: #008000\">'learning_rate'</span>: <span style=\"color: #008080; text-decoration-color: #008080; font-weight: bold\">0.3</span>, <span style=\"color: #008000; text-decoration-color: #008000\">'max_depth'</span>: <span style=\"color: #008080; text-decoration-color: #008080; font-weight: bold\">30</span>, <span style=\"color: #008000; text-decoration-color: #008000\">'n_estimators'</span>: <span style=\"color: #008080; text-decoration-color: #008080; font-weight: bold\">50</span><span style=\"font-weight: bold\">})</span>\n",
       "</pre>\n"
      ],
      "text/plain": [
       "\u001b[1m(\u001b[0m\u001b[1;36m0.7511002132742659\u001b[0m, \u001b[1m{\u001b[0m\u001b[32m'learning_rate'\u001b[0m: \u001b[1;36m0.3\u001b[0m, \u001b[32m'max_depth'\u001b[0m: \u001b[1;36m30\u001b[0m, \u001b[32m'n_estimators'\u001b[0m: \u001b[1;36m50\u001b[0m\u001b[1m}\u001b[0m\u001b[1m)\u001b[0m\n"
      ]
     },
     "metadata": {},
     "output_type": "display_data"
    }
   ],
   "source": [
    "parameters = {\n",
    "    'max_depth': range (2, 32, 4),\n",
    "    'n_estimators': [5,15,50],\n",
    "    'learning_rate': [0.3, 0.01]\n",
    "}\n",
    "model = XGBClassifier(use_label_encoder =False)\n",
    "gs = GridSearchCV(model, parameters, cv=5, n_jobs=-1, verbose=1, scoring = 'f1')\n",
    "gs.fit(X_train, y_train)\n",
    "gs.best_score_, gs.best_params_"
   ]
  },
  {
   "cell_type": "markdown",
   "id": "29948664-ac05-422f-b251-8661ae19d7fe",
   "metadata": {},
   "source": [
    "# Final XGBoost Model"
   ]
  },
  {
   "cell_type": "code",
   "execution_count": 60,
   "id": "5d88fade-361f-46bb-9f5a-4747a556f99c",
   "metadata": {},
   "outputs": [
    {
     "name": "stderr",
     "output_type": "stream",
     "text": [
      "The use of label encoder in XGBClassifier is deprecated and will be removed in a future release. To remove this warning, do the following: 1) Pass option use_label_encoder=False when constructing XGBClassifier object; and 2) Encode your labels (y) as integers starting with 0, i.e. 0, 1, 2, ..., [num_class - 1].\n"
     ]
    },
    {
     "name": "stdout",
     "output_type": "stream",
     "text": [
      "[09:18:38] WARNING: C:/Users/Administrator/workspace/xgboost-win64_release_1.5.1/src/learner.cc:1115: Starting in XGBoost 1.3.0, the default evaluation metric used with the objective 'binary:logistic' was changed from 'error' to 'logloss'. Explicitly set eval_metric if you'd like to restore the old behavior.\n"
     ]
    },
    {
     "data": {
      "text/html": [
       "<pre style=\"white-space:pre;overflow-x:auto;line-height:normal;font-family:Menlo,'DejaVu Sans Mono',consolas,'Courier New',monospace\"><span style=\"color: #008080; text-decoration-color: #008080; font-weight: bold\">0.7709000355745287</span>\n",
       "</pre>\n"
      ],
      "text/plain": [
       "\u001b[1;36m0.7709000355745287\u001b[0m\n"
      ]
     },
     "metadata": {},
     "output_type": "display_data"
    }
   ],
   "source": [
    "finalmodel = XGBClassifier(learning_rate = 0.3, max_depth = 30 , n_estimators = 50)\n",
    "finalmodel.fit(X_train, y_train)\n",
    "y_hat = finalmodel.predict(X_test)\n",
    "f1_score(y_test, y_hat)"
   ]
  },
  {
   "cell_type": "code",
   "execution_count": 61,
   "id": "d953aeba-8269-4950-a52e-cdd542aae5af",
   "metadata": {},
   "outputs": [
    {
     "data": {
      "text/html": [
       "<pre style=\"white-space:pre;overflow-x:auto;line-height:normal;font-family:Menlo,'DejaVu Sans Mono',consolas,'Courier New',monospace\"><span style=\"font-weight: bold\">(</span><span style=\"color: #008080; text-decoration-color: #008080; font-weight: bold\">0.7987467747880576</span>, <span style=\"color: #008080; text-decoration-color: #008080; font-weight: bold\">0.7449295290477828</span>, <span style=\"color: #008080; text-decoration-color: #008080; font-weight: bold\">0.7709000355745287</span><span style=\"font-weight: bold\">)</span>\n",
       "</pre>\n"
      ],
      "text/plain": [
       "\u001b[1m(\u001b[0m\u001b[1;36m0.7987467747880576\u001b[0m, \u001b[1;36m0.7449295290477828\u001b[0m, \u001b[1;36m0.7709000355745287\u001b[0m\u001b[1m)\u001b[0m\n"
      ]
     },
     "metadata": {},
     "output_type": "display_data"
    }
   ],
   "source": [
    "precision_score(y_test, y_hat),recall_score(y_test, y_hat), f1_score(y_test, y_hat)"
   ]
  },
  {
   "cell_type": "markdown",
   "id": "8668df79-93c2-4f45-af36-129aeb607e28",
   "metadata": {},
   "source": [
    "Precision: Appropriate when minimizing false positives is the focus."
   ]
  },
  {
   "cell_type": "markdown",
   "id": "9bf822e3-a865-4977-8072-d99c4b51472f",
   "metadata": {},
   "source": [
    "Recall: Appropriate when minimizing false negatives is the focus."
   ]
  },
  {
   "cell_type": "markdown",
   "id": "5439d6a8-0260-41c7-8148-9cc4126cee13",
   "metadata": {},
   "source": [
    "If MTR > MDA, then 1, else: 0"
   ]
  },
  {
   "cell_type": "markdown",
   "id": "12c60680-e75c-42bf-bd56-cad0aa2a46e6",
   "metadata": {},
   "source": [
    "Large position (sobrenominar): No problem because we have electric coverage en MDA."
   ]
  },
  {
   "cell_type": "markdown",
   "id": "92bc79ec-ad68-48d9-81e2-c19715557094",
   "metadata": {},
   "source": [
    "Short position (subnominar): We have problem, because we buy the energy at MTR Price and we do not have coverage in that market."
   ]
  },
  {
   "cell_type": "markdown",
   "id": "cfacf447-4183-4f45-9f7b-15e7a5656e60",
   "metadata": {},
   "source": [
    "So, we need to minimize the errors when the forecast indicate that MTR will be less than the MDA. In others words, we need to avoid False Negative."
   ]
  },
  {
   "cell_type": "markdown",
   "id": "0f709781-9e58-44b7-aa93-30212d556b1a",
   "metadata": {},
   "source": [
    "# Confusion matrixPrecision "
   ]
  },
  {
   "cell_type": "code",
   "execution_count": 62,
   "id": "1744bc1a-fa06-4c88-a9cf-60edf2ae5c32",
   "metadata": {},
   "outputs": [
    {
     "data": {
      "text/html": [
       "<pre style=\"white-space:pre;overflow-x:auto;line-height:normal;font-family:Menlo,'DejaVu Sans Mono',consolas,'Courier New',monospace\"><span style=\"font-weight: bold\">&lt;</span><span style=\"color: #ff00ff; text-decoration-color: #ff00ff; font-weight: bold\">Figure</span><span style=\"color: #000000; text-decoration-color: #000000\"> size 576x288 with </span><span style=\"color: #008080; text-decoration-color: #008080; font-weight: bold\">2</span><span style=\"color: #000000; text-decoration-color: #000000\"> Axes</span><span style=\"font-weight: bold\">&gt;</span>\n",
       "</pre>\n"
      ],
      "text/plain": [
       "\u001b[1m<\u001b[0m\u001b[1;95mFigure\u001b[0m\u001b[39m size 576x288 with \u001b[0m\u001b[1;36m2\u001b[0m\u001b[39m Axes\u001b[0m\u001b[1m>\u001b[0m\n"
      ]
     },
     "metadata": {},
     "output_type": "display_data"
    },
    {
     "data": {
      "image/png": "[encoded data removed]"
     },
     "metadata": {},
     "output_type": "display_data"
    }
   ],
   "source": [
    "#plot_confusion_matrix(finalmodel,X_test,y_test)\n",
    "cf_matrix = confusion_matrix(y_test, y_hat)\n",
    "\n",
    "group_names = ['True Neg','False Pos','False Neg','True Pos']\n",
    "\n",
    "group_counts = [\"{0:0.0f}\".format(value) for value in\n",
    "                cf_matrix.flatten()]\n",
    "\n",
    "group_percentages = [\"{0:.2%}\".format(value) for value in\n",
    "                     cf_matrix.flatten()/np.sum(cf_matrix)]\n",
    "\n",
    "labels = [f\"{v1}\\n{v2}\\n{v3}\" for v1, v2, v3 in\n",
    "          zip(group_names,group_counts,group_percentages)]\n",
    "\n",
    "labels = np.asarray(labels).reshape(2,2)\n",
    "\n",
    "ax = sns.heatmap(cf_matrix, annot=labels, fmt='', cmap='Blues')\n",
    "\n",
    "ax.set_title('Seaborn Confusion Matrix with labels\\n\\n');\n",
    "ax.set_xlabel('\\nPredicted Values')\n",
    "ax.set_ylabel('Actual Values ');\n",
    "\n",
    "## Ticket labels - List must be in alphabetical order\n",
    "ax.xaxis.set_ticklabels(['False','True'])\n",
    "ax.yaxis.set_ticklabels(['False','True'])\n",
    "\n",
    "## Display the visualization of the Confusion Matrix.\n",
    "plt.show()"
   ]
  },
  {
   "cell_type": "markdown",
   "id": "8cd1796b-0f9b-402a-bd8e-5bf7932cc5a8",
   "metadata": {},
   "source": [
    "# Thresold anaylisis"
   ]
  },
  {
   "cell_type": "code",
   "execution_count": 63,
   "id": "b6dd7718-b379-4067-85df-235c36db4f8e",
   "metadata": {},
   "outputs": [
    {
     "data": {
      "text/html": [
       "<pre style=\"white-space:pre;overflow-x:auto;line-height:normal;font-family:Menlo,'DejaVu Sans Mono',consolas,'Courier New',monospace\"><span style=\"color: #008080; text-decoration-color: #008080; font-weight: bold\">0.41286877</span>\n",
       "</pre>\n"
      ],
      "text/plain": [
       "\u001b[1;36m0.41286877\u001b[0m\n"
      ]
     },
     "metadata": {},
     "output_type": "display_data"
    }
   ],
   "source": [
    "y_proba = finalmodel.predict_proba(X_test)\n",
    "fpr, tpr, thresholds = roc_curve(y_test, y_proba[:,1])\n",
    "J = tpr - fpr\n",
    "ix = np.argmax(J)\n",
    "best_thresh = thresholds[ix]\n",
    "best_thresh = best_thresh\n",
    "best_thresh"
   ]
  },
  {
   "cell_type": "code",
   "execution_count": 64,
   "id": "aa2a6d3b-e6cd-44d7-9b90-ce962e8146df",
   "metadata": {},
   "outputs": [
    {
     "data": {
      "text/html": [
       "<pre style=\"white-space:pre;overflow-x:auto;line-height:normal;font-family:Menlo,'DejaVu Sans Mono',consolas,'Courier New',monospace\"><span style=\"font-weight: bold\">&lt;</span><span style=\"color: #ff00ff; text-decoration-color: #ff00ff; font-weight: bold\">Figure</span><span style=\"color: #000000; text-decoration-color: #000000\"> size 576x288 with </span><span style=\"color: #008080; text-decoration-color: #008080; font-weight: bold\">1</span><span style=\"color: #000000; text-decoration-color: #000000\"> Axes</span><span style=\"font-weight: bold\">&gt;</span>\n",
       "</pre>\n"
      ],
      "text/plain": [
       "\u001b[1m<\u001b[0m\u001b[1;95mFigure\u001b[0m\u001b[39m size 576x288 with \u001b[0m\u001b[1;36m1\u001b[0m\u001b[39m Axes\u001b[0m\u001b[1m>\u001b[0m\n"
      ]
     },
     "metadata": {},
     "output_type": "display_data"
    },
    {
     "data": {
      "image/png": "[encoded data removed]"
     },
     "metadata": {},
     "output_type": "display_data"
    }
   ],
   "source": [
    "display = PrecisionRecallDisplay.from_estimator(\n",
    "    finalmodel, X_test, y_test, name=\"LinearSVC\"\n",
    ")\n",
    "_ = display.ax_.set_title(\"2-class Precision-Recall curve\")"
   ]
  },
  {
   "cell_type": "code",
   "execution_count": 66,
   "id": "1c17e750-37e0-4733-8135-061e73d85eb0",
   "metadata": {},
   "outputs": [
    {
     "data": {
      "text/html": [
       "<pre style=\"white-space:pre;overflow-x:auto;line-height:normal;font-family:Menlo,'DejaVu Sans Mono',consolas,'Courier New',monospace\"><span style=\"font-weight: bold\">(</span><span style=\"color: #008080; text-decoration-color: #008080; font-weight: bold\">0.7246798603026775</span>, <span style=\"color: #008080; text-decoration-color: #008080; font-weight: bold\">0.7847003154574133</span>, <span style=\"color: #008080; text-decoration-color: #008080; font-weight: bold\">0.8559642488827776</span><span style=\"font-weight: bold\">)</span>\n",
       "</pre>\n"
      ],
      "text/plain": [
       "\u001b[1m(\u001b[0m\u001b[1;36m0.7246798603026775\u001b[0m, \u001b[1;36m0.7847003154574133\u001b[0m, \u001b[1;36m0.8559642488827776\u001b[0m\u001b[1m)\u001b[0m\n"
      ]
     },
     "metadata": {},
     "output_type": "display_data"
    }
   ],
   "source": [
    "y_pred_adj = (finalmodel.predict_proba(X_test)[:,1] >= 0.25).astype(bool) \n",
    "precision_score(y_test,y_pred_adj),accuracy_score(y_test,y_pred_adj),recall_score(y_test,y_pred_adj)"
   ]
  },
  {
   "cell_type": "markdown",
   "id": "fdc5f6ef-b1ef-446e-863e-6027625856a9",
   "metadata": {},
   "source": [
    "# ROC Curve (mi lap no puede instalar esto)"
   ]
  },
  {
   "cell_type": "code",
   "execution_count": 289,
   "id": "7cfc330a-6cf7-4d70-9423-061dd1a47368",
   "metadata": {},
   "outputs": [
    {
     "data": {
      "text/html": [
       "<pre style=\"white-space:pre;overflow-x:auto;line-height:normal;font-family:Menlo,'DejaVu Sans Mono',consolas,'Courier New',monospace\"><span style=\"color: #800000; text-decoration-color: #800000\">╭──────────────────────────── </span><span style=\"color: #800000; text-decoration-color: #800000; font-weight: bold\">Traceback </span><span style=\"color: #bf7f7f; text-decoration-color: #bf7f7f; font-weight: bold\">(most recent call last)</span><span style=\"color: #800000; text-decoration-color: #800000\"> ────────────────────────────╮</span>\n",
       "<span style=\"color: #800000; text-decoration-color: #800000\">│</span> <span style=\"color: #808000; text-decoration-color: #808000\">&lt;ipython-input-289-c092dd8f2485&gt;</span>:<span style=\"color: #0000ff; text-decoration-color: #0000ff\">7</span> in <span style=\"color: #00ff00; text-decoration-color: #00ff00\">&lt;module&gt;</span>                                            <span style=\"color: #800000; text-decoration-color: #800000\">│</span>\n",
       "<span style=\"color: #800000; text-decoration-color: #800000\">╰───────────────────────────────────────────────────────────────────────────────────────────╯</span>\n",
       "<span style=\"color: #ff0000; text-decoration-color: #ff0000; font-weight: bold\">ModuleNotFoundError: </span>No module named <span style=\"color: #008000; text-decoration-color: #008000\">'src'</span>\n",
       "</pre>\n"
      ],
      "text/plain": [
       "\u001b[31m╭─\u001b[0m\u001b[31m─────────────────────────── \u001b[0m\u001b[1;31mTraceback \u001b[0m\u001b[1;2;31m(most recent call last)\u001b[0m\u001b[31m ───────────────────────────\u001b[0m\u001b[31m─╮\u001b[0m\n",
       "\u001b[31m│\u001b[0m \u001b[33m<ipython-input-289-c092dd8f2485>\u001b[0m:\u001b[94m7\u001b[0m in \u001b[92m<module>\u001b[0m                                            \u001b[31m│\u001b[0m\n",
       "\u001b[31m╰───────────────────────────────────────────────────────────────────────────────────────────╯\u001b[0m\n",
       "\u001b[1;91mModuleNotFoundError: \u001b[0mNo module named \u001b[32m'src'\u001b[0m\n"
      ]
     },
     "metadata": {},
     "output_type": "display_data"
    }
   ],
   "source": [
    "#import sys\n",
    "#sys.path.insert(0, '../src')\n",
    "from sklearn.datasets import make_classification\n",
    "from sklearn.linear_model import LogisticRegression\n",
    "import matplotlib.pyplot as plt\n",
    "from sklearn.model_selection import train_test_split\n",
    "from src.roc_curve import roc_curve\n",
    "from roc_curve import roc_curve\n",
    "\n",
    "#X, y = make_classification(n_features=2, n_redundant=0, n_informative=2,\n",
    "                           #n_clusters_per_class=2, n_samples=1000)\n",
    "#X_train, X_test, y_train, y_test = train_test_split(X, y)\n",
    "\n",
    "#model = LogisticRegression()\n",
    "#model.fit(X_train, y_train)\n",
    "#probabilities = model.predict_proba(X_test)[:, 1]\n",
    "probabilities = finalmodel.predict_proba(X_test)[:,1]\n",
    "              \n",
    "tpr, fpr, thresholds = roc_curve(probabilities, y_test)\n",
    "\n",
    "plt.plot(fpr, tpr)\n",
    "plt.xlabel(\"False Positive Rate (1 - Specificity)\")\n",
    "plt.ylabel(\"True Positive Rate (Sensitivity, Recall)\")\n",
    "plt.title(\"ROC plot of fake data\")\n",
    "plt.show()"
   ]
  },
  {
   "cell_type": "markdown",
   "id": "573b3c76-a922-4c58-9cc4-3b28b956f7ba",
   "metadata": {},
   "source": [
    "# Feature Importance"
   ]
  },
  {
   "cell_type": "markdown",
   "id": "1dea81ba-cfa0-45b2-a44f-e5b3496fbb86",
   "metadata": {},
   "source": [
    "Gain is the improvement in accuracy brought by a feature to the branches it is on."
   ]
  },
  {
   "cell_type": "markdown",
   "id": "0f6f1c52-1d21-44e5-9809-c704f287ad2e",
   "metadata": {},
   "source": [
    "Cover measures the relative quantity of observations concerned by a feature."
   ]
  },
  {
   "cell_type": "markdown",
   "id": "46cc41cf-25b0-4838-aa24-8eae0a4d13b0",
   "metadata": {},
   "source": [
    "Frequency is a simpler way to measure the Gain. It just counts the number of times a feature is used in all generated trees. You should not use it (unless you know why you want to use it)."
   ]
  },
  {
   "cell_type": "code",
   "execution_count": 67,
   "id": "f26d9136-c6ba-44bd-bbf5-06c07ba560ec",
   "metadata": {},
   "outputs": [
    {
     "data": {
      "text/html": [
       "<pre style=\"white-space:pre;overflow-x:auto;line-height:normal;font-family:Menlo,'DejaVu Sans Mono',consolas,'Courier New',monospace\"><span style=\"font-weight: bold\">&lt;</span><span style=\"color: #ff00ff; text-decoration-color: #ff00ff; font-weight: bold\">AxesSubplot:</span><span style=\"color: #808000; text-decoration-color: #808000; font-weight: bold\">title</span><span style=\"color: #000000; text-decoration-color: #000000\">=</span><span style=\"color: #000000; text-decoration-color: #000000; font-weight: bold\">{</span><span style=\"color: #008000; text-decoration-color: #008000\">'center'</span><span style=\"color: #000000; text-decoration-color: #000000\">:</span><span style=\"color: #008000; text-decoration-color: #008000\">'Feature importance'</span><span style=\"color: #000000; text-decoration-color: #000000; font-weight: bold\">}</span><span style=\"color: #000000; text-decoration-color: #000000\">, </span><span style=\"color: #808000; text-decoration-color: #808000\">xlabel</span><span style=\"color: #000000; text-decoration-color: #000000\">=</span><span style=\"color: #008000; text-decoration-color: #008000\">'F score'</span><span style=\"color: #000000; text-decoration-color: #000000\">, </span><span style=\"color: #808000; text-decoration-color: #808000\">ylabel</span><span style=\"color: #000000; text-decoration-color: #000000\">=</span><span style=\"color: #008000; text-decoration-color: #008000\">'Features'</span><span style=\"font-weight: bold\">&gt;</span>\n",
       "</pre>\n"
      ],
      "text/plain": [
       "\u001b[1m<\u001b[0m\u001b[1;95mAxesSubplot:\u001b[0m\u001b[1;33mtitle\u001b[0m\u001b[39m=\u001b[0m\u001b[1;39m{\u001b[0m\u001b[32m'center'\u001b[0m\u001b[39m:\u001b[0m\u001b[32m'Feature importance'\u001b[0m\u001b[1;39m}\u001b[0m\u001b[39m, \u001b[0m\u001b[33mxlabel\u001b[0m\u001b[39m=\u001b[0m\u001b[32m'F score'\u001b[0m\u001b[39m, \u001b[0m\u001b[33mylabel\u001b[0m\u001b[39m=\u001b[0m\u001b[32m'Features'\u001b[0m\u001b[1m>\u001b[0m\n"
      ]
     },
     "metadata": {},
     "output_type": "display_data"
    },
    {
     "data": {
      "text/html": [
       "<pre style=\"white-space:pre;overflow-x:auto;line-height:normal;font-family:Menlo,'DejaVu Sans Mono',consolas,'Courier New',monospace\"><span style=\"font-weight: bold\">&lt;</span><span style=\"color: #ff00ff; text-decoration-color: #ff00ff; font-weight: bold\">Figure</span><span style=\"color: #000000; text-decoration-color: #000000\"> size 576x288 with </span><span style=\"color: #008080; text-decoration-color: #008080; font-weight: bold\">1</span><span style=\"color: #000000; text-decoration-color: #000000\"> Axes</span><span style=\"font-weight: bold\">&gt;</span>\n",
       "</pre>\n"
      ],
      "text/plain": [
       "\u001b[1m<\u001b[0m\u001b[1;95mFigure\u001b[0m\u001b[39m size 576x288 with \u001b[0m\u001b[1;36m1\u001b[0m\u001b[39m Axes\u001b[0m\u001b[1m>\u001b[0m\n"
      ]
     },
     "metadata": {},
     "output_type": "display_data"
    },
    {
     "data": {
      "image/png": "[encoded data removed]"
     },
     "metadata": {},
     "output_type": "display_data"
    }
   ],
   "source": [
    "xgb.plot_importance(finalmodel,importance_type='gain')"
   ]
  },
  {
   "cell_type": "markdown",
   "id": "d3a5670d-c3cf-42b2-a9d0-4be016e42147",
   "metadata": {},
   "source": [
    "# Exporting XGBoost final model"
   ]
  },
  {
   "cell_type": "code",
   "execution_count": 68,
   "id": "d243f095-893d-41dc-a719-6fa489f96744",
   "metadata": {},
   "outputs": [],
   "source": [
    "import pickle\n",
    "with open('model.p', 'wb') as f:\n",
    "    pickle.dump(finalmodel, f, protocol=pickle.HIGHEST_PROTOCOL\n",
    ")"
   ]
  },
  {
   "cell_type": "markdown",
   "id": "cafb9901-91b9-4d5e-ac86-b0367a94bd0b",
   "metadata": {},
   "source": [
    "# ###############################################################################"
   ]
  },
  {
   "cell_type": "markdown",
   "id": "1b448061-eb77-4f44-85a3-9dd62fd95805",
   "metadata": {},
   "source": [
    "# Creating data for Random Forest"
   ]
  },
  {
   "cell_type": "code",
   "execution_count": 136,
   "id": "e32d6553-175d-4990-8d67-93decc16b7eb",
   "metadata": {},
   "outputs": [],
   "source": [
    "X_data_clean_rf = DF_node_clean.drop(['DART (MXN/MWh)'], axis=1)\n",
    "X_data_clean_rf = X_data_clean_rf.drop(['DARTbin'], axis=1)\n",
    "X_data_clean_rf = X_data_clean_rf.drop(['mda'], axis=1)\n",
    "X_data_clean_rf = X_data_clean_rf.drop(['mtr'], axis=1)\n",
    "X_data_clean_rf = X_data_clean_rf.drop(['mda52'], axis=1)\n",
    "X_data_clean_rf = X_data_clean_rf.drop(['mtr52'], axis=1)\n",
    "X_data_clean_rf = X_data_clean_rf.drop(['ypast52'], axis=1)\n",
    "X_data_clean_rf = X_data_clean_rf.drop(['festivo52'], axis=1)\n",
    "y_data_clean_rf = DF_node_clean['mda']"
   ]
  },
  {
   "cell_type": "code",
   "execution_count": 137,
   "id": "d16315fd-b2eb-4eb0-b59c-f95c62a331bb",
   "metadata": {},
   "outputs": [],
   "source": [
    "X_train, X_test, y_train, y_test = train_test_split(X_data_clean_rf, y_data_clean_rf, test_size=0.33)"
   ]
  },
  {
   "cell_type": "markdown",
   "id": "83eaff24-e71f-450e-9725-16bbb6b4fe2c",
   "metadata": {},
   "source": [
    "# Grid Search for Random Forest"
   ]
  },
  {
   "cell_type": "code",
   "execution_count": 156,
   "id": "bf2d688c-fcb0-4dbb-8447-f6a4efad1a33",
   "metadata": {},
   "outputs": [],
   "source": [
    "#Grid search and final model in a 1 sigle function!\n",
    "parameters_rf = {'n_estimators': range(20,30),'max_depth': range(9,15)}\n",
    "def gs_final_model(parameters, model, model_name):\n",
    "\n",
    "    gs = GridSearchCV(model(), parameters, cv=5, n_jobs=1, verbose=1)\n",
    "    gs.fit(X_train, y_train)\n",
    "    m = model(**gs.best_params_).fit(X_train, y_train)\n",
    "    y_hat = m.predict(X_test)\n",
    "    r2 = r2_score(y_test, y_hat)\n",
    "\n",
    "    return model_name, r2, gs.best_params_"
   ]
  },
  {
   "cell_type": "code",
   "execution_count": 157,
   "id": "de4e76fa-07dd-41e9-8d2c-87ad18691ba9",
   "metadata": {},
   "outputs": [
    {
     "name": "stdout",
     "output_type": "stream",
     "text": [
      "Fitting 5 folds for each of 60 candidates, totalling 300 fits\n"
     ]
    },
    {
     "data": {
      "text/html": [
       "<div>\n",
       "<style scoped>\n",
       "    .dataframe tbody tr th:only-of-type {\n",
       "        vertical-align: middle;\n",
       "    }\n",
       "\n",
       "    .dataframe tbody tr th {\n",
       "        vertical-align: top;\n",
       "    }\n",
       "\n",
       "    .dataframe thead th {\n",
       "        text-align: right;\n",
       "    }\n",
       "</style>\n",
       "<table border=\"1\" class=\"dataframe\">\n",
       "  <thead>\n",
       "    <tr style=\"text-align: right;\">\n",
       "      <th></th>\n",
       "      <th>0</th>\n",
       "    </tr>\n",
       "  </thead>\n",
       "  <tbody>\n",
       "    <tr>\n",
       "      <th>0</th>\n",
       "      <td>Random Forest</td>\n",
       "    </tr>\n",
       "    <tr>\n",
       "      <th>1</th>\n",
       "      <td>0.786608</td>\n",
       "    </tr>\n",
       "    <tr>\n",
       "      <th>2</th>\n",
       "      <td>{'max_depth': 14, 'n_estimators': 28}</td>\n",
       "    </tr>\n",
       "  </tbody>\n",
       "</table>\n",
       "</div>"
      ]
     },
     "execution_count": 157,
     "metadata": {},
     "output_type": "execute_result"
    }
   ],
   "source": [
    "#RandomForestRegressor,\n",
    "rf_2 = gs_final_model(parameters_rf,RandomForestRegressor,'Random Forest')\n",
    "rf_2 = pd.DataFrame(rf_2)\n",
    "rf_2 "
   ]
  },
  {
   "cell_type": "markdown",
   "id": "3945e620-488e-44db-a679-46e73808387e",
   "metadata": {},
   "source": [
    "# #######################################################################"
   ]
  },
  {
   "cell_type": "markdown",
   "id": "1d3e47c7-a05d-4e07-a3c9-17e88531636e",
   "metadata": {},
   "source": [
    "# Creating time series model"
   ]
  },
  {
   "cell_type": "markdown",
   "id": "0c9264cc-d629-46ca-9383-2f9ed84cf63d",
   "metadata": {},
   "source": [
    "We are going to use DF_node"
   ]
  },
  {
   "cell_type": "code",
   "execution_count": 73,
   "id": "1fc35d03-64a3-4a7b-9ef8-73bb2d3fce69",
   "metadata": {},
   "outputs": [
    {
     "data": {
      "text/html": [
       "<div>\n",
       "<style scoped>\n",
       "    .dataframe tbody tr th:only-of-type {\n",
       "        vertical-align: middle;\n",
       "    }\n",
       "\n",
       "    .dataframe tbody tr th {\n",
       "        vertical-align: top;\n",
       "    }\n",
       "\n",
       "    .dataframe thead th {\n",
       "        text-align: right;\n",
       "    }\n",
       "</style>\n",
       "<table border=\"1\" class=\"dataframe\">\n",
       "  <thead>\n",
       "    <tr style=\"text-align: right;\">\n",
       "      <th></th>\n",
       "      <th>clanodo</th>\n",
       "      <th>fecha</th>\n",
       "      <th>fecha_h</th>\n",
       "      <th>festivo</th>\n",
       "      <th>mes</th>\n",
       "      <th>diaSemana</th>\n",
       "      <th>hora</th>\n",
       "      <th>mda</th>\n",
       "      <th>mtr</th>\n",
       "      <th>mda7</th>\n",
       "      <th>...</th>\n",
       "      <th>ypast3avg</th>\n",
       "      <th>eolica</th>\n",
       "      <th>fotovol</th>\n",
       "      <th>demanda</th>\n",
       "      <th>temperatura</th>\n",
       "      <th>hsc</th>\n",
       "      <th>DART (MXN/MWh)</th>\n",
       "      <th>DARTbin</th>\n",
       "      <th>Year</th>\n",
       "      <th>Day</th>\n",
       "    </tr>\n",
       "  </thead>\n",
       "  <tbody>\n",
       "    <tr>\n",
       "      <th>0</th>\n",
       "      <td>03DEC-230</td>\n",
       "      <td>2020-01-01</td>\n",
       "      <td>2020-01-01 01:00:00</td>\n",
       "      <td>0</td>\n",
       "      <td>1</td>\n",
       "      <td>3</td>\n",
       "      <td>1</td>\n",
       "      <td>366.98</td>\n",
       "      <td>360.98</td>\n",
       "      <td>412.31</td>\n",
       "      <td>...</td>\n",
       "      <td>0.333333</td>\n",
       "      <td>1893.677</td>\n",
       "      <td>0.0</td>\n",
       "      <td>514.389</td>\n",
       "      <td>12.0</td>\n",
       "      <td>1.9</td>\n",
       "      <td>-6.00</td>\n",
       "      <td>0</td>\n",
       "      <td>2020</td>\n",
       "      <td>1</td>\n",
       "    </tr>\n",
       "    <tr>\n",
       "      <th>1</th>\n",
       "      <td>03DEC-230</td>\n",
       "      <td>2020-01-01</td>\n",
       "      <td>2020-01-01 02:00:00</td>\n",
       "      <td>0</td>\n",
       "      <td>1</td>\n",
       "      <td>3</td>\n",
       "      <td>2</td>\n",
       "      <td>341.85</td>\n",
       "      <td>360.74</td>\n",
       "      <td>369.05</td>\n",
       "      <td>...</td>\n",
       "      <td>0.666667</td>\n",
       "      <td>1816.833</td>\n",
       "      <td>0.0</td>\n",
       "      <td>500.955</td>\n",
       "      <td>12.0</td>\n",
       "      <td>1.9</td>\n",
       "      <td>18.89</td>\n",
       "      <td>1</td>\n",
       "      <td>2020</td>\n",
       "      <td>1</td>\n",
       "    </tr>\n",
       "    <tr>\n",
       "      <th>2</th>\n",
       "      <td>03DEC-230</td>\n",
       "      <td>2020-01-01</td>\n",
       "      <td>2020-01-01 03:00:00</td>\n",
       "      <td>0</td>\n",
       "      <td>1</td>\n",
       "      <td>3</td>\n",
       "      <td>3</td>\n",
       "      <td>322.58</td>\n",
       "      <td>358.48</td>\n",
       "      <td>382.16</td>\n",
       "      <td>...</td>\n",
       "      <td>0.666667</td>\n",
       "      <td>1724.406</td>\n",
       "      <td>0.0</td>\n",
       "      <td>486.497</td>\n",
       "      <td>12.0</td>\n",
       "      <td>1.9</td>\n",
       "      <td>35.90</td>\n",
       "      <td>1</td>\n",
       "      <td>2020</td>\n",
       "      <td>1</td>\n",
       "    </tr>\n",
       "    <tr>\n",
       "      <th>3</th>\n",
       "      <td>03DEC-230</td>\n",
       "      <td>2020-01-01</td>\n",
       "      <td>2020-01-01 04:00:00</td>\n",
       "      <td>0</td>\n",
       "      <td>1</td>\n",
       "      <td>3</td>\n",
       "      <td>4</td>\n",
       "      <td>310.62</td>\n",
       "      <td>344.90</td>\n",
       "      <td>342.09</td>\n",
       "      <td>...</td>\n",
       "      <td>0.666667</td>\n",
       "      <td>1625.519</td>\n",
       "      <td>0.0</td>\n",
       "      <td>472.968</td>\n",
       "      <td>12.0</td>\n",
       "      <td>1.9</td>\n",
       "      <td>34.28</td>\n",
       "      <td>1</td>\n",
       "      <td>2020</td>\n",
       "      <td>1</td>\n",
       "    </tr>\n",
       "    <tr>\n",
       "      <th>4</th>\n",
       "      <td>03DEC-230</td>\n",
       "      <td>2020-01-01</td>\n",
       "      <td>2020-01-01 05:00:00</td>\n",
       "      <td>0</td>\n",
       "      <td>1</td>\n",
       "      <td>3</td>\n",
       "      <td>5</td>\n",
       "      <td>282.84</td>\n",
       "      <td>329.55</td>\n",
       "      <td>253.99</td>\n",
       "      <td>...</td>\n",
       "      <td>0.666667</td>\n",
       "      <td>1502.951</td>\n",
       "      <td>0.0</td>\n",
       "      <td>471.125</td>\n",
       "      <td>12.0</td>\n",
       "      <td>1.9</td>\n",
       "      <td>46.71</td>\n",
       "      <td>1</td>\n",
       "      <td>2020</td>\n",
       "      <td>1</td>\n",
       "    </tr>\n",
       "  </tbody>\n",
       "</table>\n",
       "<p>5 rows × 31 columns</p>\n",
       "</div>"
      ]
     },
     "execution_count": 73,
     "metadata": {},
     "output_type": "execute_result"
    }
   ],
   "source": [
    "DF_node.head()"
   ]
  },
  {
   "cell_type": "code",
   "execution_count": 74,
   "id": "251f748d-f006-42a0-afa6-58bad3ea6326",
   "metadata": {},
   "outputs": [
    {
     "data": {
      "text/html": [
       "<div>\n",
       "<style scoped>\n",
       "    .dataframe tbody tr th:only-of-type {\n",
       "        vertical-align: middle;\n",
       "    }\n",
       "\n",
       "    .dataframe tbody tr th {\n",
       "        vertical-align: top;\n",
       "    }\n",
       "\n",
       "    .dataframe thead th {\n",
       "        text-align: right;\n",
       "    }\n",
       "</style>\n",
       "<table border=\"1\" class=\"dataframe\">\n",
       "  <thead>\n",
       "    <tr style=\"text-align: right;\">\n",
       "      <th></th>\n",
       "      <th>fecha</th>\n",
       "      <th>fecha_h</th>\n",
       "      <th>festivo</th>\n",
       "      <th>mes</th>\n",
       "      <th>diaSemana</th>\n",
       "      <th>hora</th>\n",
       "      <th>mda</th>\n",
       "      <th>mtr</th>\n",
       "      <th>mda7</th>\n",
       "      <th>mtr7</th>\n",
       "      <th>...</th>\n",
       "      <th>ypast3avg</th>\n",
       "      <th>eolica</th>\n",
       "      <th>fotovol</th>\n",
       "      <th>demanda</th>\n",
       "      <th>temperatura</th>\n",
       "      <th>hsc</th>\n",
       "      <th>DART (MXN/MWh)</th>\n",
       "      <th>DARTbin</th>\n",
       "      <th>Year</th>\n",
       "      <th>Day</th>\n",
       "    </tr>\n",
       "  </thead>\n",
       "  <tbody>\n",
       "    <tr>\n",
       "      <th>0</th>\n",
       "      <td>2020-01-01</td>\n",
       "      <td>2020-01-01 01:00:00</td>\n",
       "      <td>0</td>\n",
       "      <td>1</td>\n",
       "      <td>3</td>\n",
       "      <td>1</td>\n",
       "      <td>366.98</td>\n",
       "      <td>360.98</td>\n",
       "      <td>412.31</td>\n",
       "      <td>379.47</td>\n",
       "      <td>...</td>\n",
       "      <td>0.333333</td>\n",
       "      <td>1893.677</td>\n",
       "      <td>0.0</td>\n",
       "      <td>514.389</td>\n",
       "      <td>12.0</td>\n",
       "      <td>1.9</td>\n",
       "      <td>-6.00</td>\n",
       "      <td>0</td>\n",
       "      <td>2020</td>\n",
       "      <td>1</td>\n",
       "    </tr>\n",
       "    <tr>\n",
       "      <th>1</th>\n",
       "      <td>2020-01-01</td>\n",
       "      <td>2020-01-01 02:00:00</td>\n",
       "      <td>0</td>\n",
       "      <td>1</td>\n",
       "      <td>3</td>\n",
       "      <td>2</td>\n",
       "      <td>341.85</td>\n",
       "      <td>360.74</td>\n",
       "      <td>369.05</td>\n",
       "      <td>373.72</td>\n",
       "      <td>...</td>\n",
       "      <td>0.666667</td>\n",
       "      <td>1816.833</td>\n",
       "      <td>0.0</td>\n",
       "      <td>500.955</td>\n",
       "      <td>12.0</td>\n",
       "      <td>1.9</td>\n",
       "      <td>18.89</td>\n",
       "      <td>1</td>\n",
       "      <td>2020</td>\n",
       "      <td>1</td>\n",
       "    </tr>\n",
       "    <tr>\n",
       "      <th>2</th>\n",
       "      <td>2020-01-01</td>\n",
       "      <td>2020-01-01 03:00:00</td>\n",
       "      <td>0</td>\n",
       "      <td>1</td>\n",
       "      <td>3</td>\n",
       "      <td>3</td>\n",
       "      <td>322.58</td>\n",
       "      <td>358.48</td>\n",
       "      <td>382.16</td>\n",
       "      <td>359.53</td>\n",
       "      <td>...</td>\n",
       "      <td>0.666667</td>\n",
       "      <td>1724.406</td>\n",
       "      <td>0.0</td>\n",
       "      <td>486.497</td>\n",
       "      <td>12.0</td>\n",
       "      <td>1.9</td>\n",
       "      <td>35.90</td>\n",
       "      <td>1</td>\n",
       "      <td>2020</td>\n",
       "      <td>1</td>\n",
       "    </tr>\n",
       "    <tr>\n",
       "      <th>3</th>\n",
       "      <td>2020-01-01</td>\n",
       "      <td>2020-01-01 04:00:00</td>\n",
       "      <td>0</td>\n",
       "      <td>1</td>\n",
       "      <td>3</td>\n",
       "      <td>4</td>\n",
       "      <td>310.62</td>\n",
       "      <td>344.90</td>\n",
       "      <td>342.09</td>\n",
       "      <td>340.69</td>\n",
       "      <td>...</td>\n",
       "      <td>0.666667</td>\n",
       "      <td>1625.519</td>\n",
       "      <td>0.0</td>\n",
       "      <td>472.968</td>\n",
       "      <td>12.0</td>\n",
       "      <td>1.9</td>\n",
       "      <td>34.28</td>\n",
       "      <td>1</td>\n",
       "      <td>2020</td>\n",
       "      <td>1</td>\n",
       "    </tr>\n",
       "    <tr>\n",
       "      <th>4</th>\n",
       "      <td>2020-01-01</td>\n",
       "      <td>2020-01-01 05:00:00</td>\n",
       "      <td>0</td>\n",
       "      <td>1</td>\n",
       "      <td>3</td>\n",
       "      <td>5</td>\n",
       "      <td>282.84</td>\n",
       "      <td>329.55</td>\n",
       "      <td>253.99</td>\n",
       "      <td>320.81</td>\n",
       "      <td>...</td>\n",
       "      <td>0.666667</td>\n",
       "      <td>1502.951</td>\n",
       "      <td>0.0</td>\n",
       "      <td>471.125</td>\n",
       "      <td>12.0</td>\n",
       "      <td>1.9</td>\n",
       "      <td>46.71</td>\n",
       "      <td>1</td>\n",
       "      <td>2020</td>\n",
       "      <td>1</td>\n",
       "    </tr>\n",
       "  </tbody>\n",
       "</table>\n",
       "<p>5 rows × 30 columns</p>\n",
       "</div>"
      ]
     },
     "execution_count": 74,
     "metadata": {},
     "output_type": "execute_result"
    }
   ],
   "source": [
    "DF_node_ts = DF_node.drop(['clanodo'], axis=1);DF_node_ts.head()"
   ]
  },
  {
   "cell_type": "code",
   "execution_count": 75,
   "id": "1dbd15c0-2a20-48cf-b543-3cb97d0a9afc",
   "metadata": {},
   "outputs": [
    {
     "data": {
      "text/html": [
       "<pre style=\"white-space:pre;overflow-x:auto;line-height:normal;font-family:Menlo,'DejaVu Sans Mono',consolas,'Courier New',monospace\">\n",
       "fecha               <span style=\"color: #008080; text-decoration-color: #008080; font-weight: bold\">0</span>\n",
       "fecha_h             <span style=\"color: #008080; text-decoration-color: #008080; font-weight: bold\">0</span>\n",
       "festivo             <span style=\"color: #008080; text-decoration-color: #008080; font-weight: bold\">0</span>\n",
       "mes                 <span style=\"color: #008080; text-decoration-color: #008080; font-weight: bold\">0</span>\n",
       "diaSemana           <span style=\"color: #008080; text-decoration-color: #008080; font-weight: bold\">0</span>\n",
       "hora                <span style=\"color: #008080; text-decoration-color: #008080; font-weight: bold\">0</span>\n",
       "mda                 <span style=\"color: #008080; text-decoration-color: #008080; font-weight: bold\">0</span>\n",
       "mtr               <span style=\"color: #008080; text-decoration-color: #008080; font-weight: bold\">168</span>\n",
       "mda7                <span style=\"color: #008080; text-decoration-color: #008080; font-weight: bold\">4</span>\n",
       "mtr7                <span style=\"color: #008080; text-decoration-color: #008080; font-weight: bold\">4</span>\n",
       "ypast7              <span style=\"color: #008080; text-decoration-color: #008080; font-weight: bold\">0</span>\n",
       "festivo7            <span style=\"color: #008080; text-decoration-color: #008080; font-weight: bold\">0</span>\n",
       "mda14               <span style=\"color: #008080; text-decoration-color: #008080; font-weight: bold\">4</span>\n",
       "mtr14              <span style=\"color: #008080; text-decoration-color: #008080; font-weight: bold\">28</span>\n",
       "ypast14             <span style=\"color: #008080; text-decoration-color: #008080; font-weight: bold\">0</span>\n",
       "festivo14           <span style=\"color: #008080; text-decoration-color: #008080; font-weight: bold\">0</span>\n",
       "mda52               <span style=\"color: #008080; text-decoration-color: #008080; font-weight: bold\">1</span>\n",
       "mtr52              <span style=\"color: #008080; text-decoration-color: #008080; font-weight: bold\">25</span>\n",
       "ypast52             <span style=\"color: #008080; text-decoration-color: #008080; font-weight: bold\">0</span>\n",
       "festivo52           <span style=\"color: #008080; text-decoration-color: #008080; font-weight: bold\">0</span>\n",
       "ypast3avg         <span style=\"color: #008080; text-decoration-color: #008080; font-weight: bold\">152</span>\n",
       "eolica              <span style=\"color: #008080; text-decoration-color: #008080; font-weight: bold\">0</span>\n",
       "fotovol             <span style=\"color: #008080; text-decoration-color: #008080; font-weight: bold\">0</span>\n",
       "demanda            <span style=\"color: #008080; text-decoration-color: #008080; font-weight: bold\">24</span>\n",
       "temperatura       <span style=\"color: #008080; text-decoration-color: #008080; font-weight: bold\">123</span>\n",
       "hsc                 <span style=\"color: #008080; text-decoration-color: #008080; font-weight: bold\">0</span>\n",
       "DART <span style=\"font-weight: bold\">(</span>MXN/MWh<span style=\"font-weight: bold\">)</span>    <span style=\"color: #008080; text-decoration-color: #008080; font-weight: bold\">168</span>\n",
       "DARTbin             <span style=\"color: #008080; text-decoration-color: #008080; font-weight: bold\">0</span>\n",
       "Year                <span style=\"color: #008080; text-decoration-color: #008080; font-weight: bold\">0</span>\n",
       "Day                 <span style=\"color: #008080; text-decoration-color: #008080; font-weight: bold\">0</span>\n",
       "dtype: int64\n",
       "</pre>\n"
      ],
      "text/plain": [
       "\n",
       "fecha               \u001b[1;36m0\u001b[0m\n",
       "fecha_h             \u001b[1;36m0\u001b[0m\n",
       "festivo             \u001b[1;36m0\u001b[0m\n",
       "mes                 \u001b[1;36m0\u001b[0m\n",
       "diaSemana           \u001b[1;36m0\u001b[0m\n",
       "hora                \u001b[1;36m0\u001b[0m\n",
       "mda                 \u001b[1;36m0\u001b[0m\n",
       "mtr               \u001b[1;36m168\u001b[0m\n",
       "mda7                \u001b[1;36m4\u001b[0m\n",
       "mtr7                \u001b[1;36m4\u001b[0m\n",
       "ypast7              \u001b[1;36m0\u001b[0m\n",
       "festivo7            \u001b[1;36m0\u001b[0m\n",
       "mda14               \u001b[1;36m4\u001b[0m\n",
       "mtr14              \u001b[1;36m28\u001b[0m\n",
       "ypast14             \u001b[1;36m0\u001b[0m\n",
       "festivo14           \u001b[1;36m0\u001b[0m\n",
       "mda52               \u001b[1;36m1\u001b[0m\n",
       "mtr52              \u001b[1;36m25\u001b[0m\n",
       "ypast52             \u001b[1;36m0\u001b[0m\n",
       "festivo52           \u001b[1;36m0\u001b[0m\n",
       "ypast3avg         \u001b[1;36m152\u001b[0m\n",
       "eolica              \u001b[1;36m0\u001b[0m\n",
       "fotovol             \u001b[1;36m0\u001b[0m\n",
       "demanda            \u001b[1;36m24\u001b[0m\n",
       "temperatura       \u001b[1;36m123\u001b[0m\n",
       "hsc                 \u001b[1;36m0\u001b[0m\n",
       "DART \u001b[1m(\u001b[0mMXN/MWh\u001b[1m)\u001b[0m    \u001b[1;36m168\u001b[0m\n",
       "DARTbin             \u001b[1;36m0\u001b[0m\n",
       "Year                \u001b[1;36m0\u001b[0m\n",
       "Day                 \u001b[1;36m0\u001b[0m\n",
       "dtype: int64\n"
      ]
     },
     "metadata": {},
     "output_type": "display_data"
    }
   ],
   "source": [
    "DF_node_ts.isna().sum()"
   ]
  },
  {
   "cell_type": "code",
   "execution_count": 76,
   "id": "bd7eaff4-b5b1-459d-a3bf-3e5e555ca67b",
   "metadata": {},
   "outputs": [
    {
     "name": "stdout",
     "output_type": "stream",
     "text": [
      "<class 'pandas.core.frame.DataFrame'>\n",
      "Int64Index: 19211 entries, 0 to 19631\n",
      "Data columns (total 30 columns):\n",
      " #   Column          Non-Null Count  Dtype         \n",
      "---  ------          --------------  -----         \n",
      " 0   fecha           19211 non-null  datetime64[ns]\n",
      " 1   fecha_h         19211 non-null  datetime64[ns]\n",
      " 2   festivo         19211 non-null  int64         \n",
      " 3   mes             19211 non-null  int64         \n",
      " 4   diaSemana       19211 non-null  int64         \n",
      " 5   hora            19211 non-null  int64         \n",
      " 6   mda             19211 non-null  float64       \n",
      " 7   mtr             19211 non-null  float64       \n",
      " 8   mda7            19211 non-null  float64       \n",
      " 9   mtr7            19211 non-null  float64       \n",
      " 10  ypast7          19211 non-null  int64         \n",
      " 11  festivo7        19211 non-null  int64         \n",
      " 12  mda14           19211 non-null  float64       \n",
      " 13  mtr14           19211 non-null  float64       \n",
      " 14  ypast14         19211 non-null  int64         \n",
      " 15  festivo14       19211 non-null  int64         \n",
      " 16  mda52           19211 non-null  float64       \n",
      " 17  mtr52           19211 non-null  float64       \n",
      " 18  ypast52         19211 non-null  int64         \n",
      " 19  festivo52       19211 non-null  int64         \n",
      " 20  ypast3avg       19211 non-null  float64       \n",
      " 21  eolica          19211 non-null  float64       \n",
      " 22  fotovol         19211 non-null  float64       \n",
      " 23  demanda         19211 non-null  float64       \n",
      " 24  temperatura     19211 non-null  float64       \n",
      " 25  hsc             19211 non-null  float64       \n",
      " 26  DART (MXN/MWh)  19211 non-null  float64       \n",
      " 27  DARTbin         19211 non-null  int64         \n",
      " 28  Year            19211 non-null  int64         \n",
      " 29  Day             19211 non-null  int64         \n",
      "dtypes: datetime64[ns](2), float64(15), int64(13)\n",
      "memory usage: 4.5 MB\n"
     ]
    }
   ],
   "source": [
    "DF_node_ts=DF_node_ts.dropna();DF_node_ts.info()"
   ]
  },
  {
   "cell_type": "code",
   "execution_count": 78,
   "id": "1861dc4d-64f5-444d-ac66-770917ea8569",
   "metadata": {},
   "outputs": [
    {
     "data": {
      "text/html": [
       "<div>\n",
       "<style scoped>\n",
       "    .dataframe tbody tr th:only-of-type {\n",
       "        vertical-align: middle;\n",
       "    }\n",
       "\n",
       "    .dataframe tbody tr th {\n",
       "        vertical-align: top;\n",
       "    }\n",
       "\n",
       "    .dataframe thead th {\n",
       "        text-align: right;\n",
       "    }\n",
       "</style>\n",
       "<table border=\"1\" class=\"dataframe\">\n",
       "  <thead>\n",
       "    <tr style=\"text-align: right;\">\n",
       "      <th></th>\n",
       "      <th>fecha</th>\n",
       "      <th>fecha_h</th>\n",
       "      <th>festivo</th>\n",
       "      <th>mes</th>\n",
       "      <th>diaSemana</th>\n",
       "      <th>hora</th>\n",
       "      <th>mda</th>\n",
       "      <th>mtr</th>\n",
       "      <th>mda7</th>\n",
       "      <th>mtr7</th>\n",
       "      <th>...</th>\n",
       "      <th>ypast3avg</th>\n",
       "      <th>eolica</th>\n",
       "      <th>fotovol</th>\n",
       "      <th>demanda</th>\n",
       "      <th>temperatura</th>\n",
       "      <th>hsc</th>\n",
       "      <th>DART (MXN/MWh)</th>\n",
       "      <th>DARTbin</th>\n",
       "      <th>Year</th>\n",
       "      <th>Day</th>\n",
       "    </tr>\n",
       "  </thead>\n",
       "  <tbody>\n",
       "    <tr>\n",
       "      <th>0</th>\n",
       "      <td>2020-01-01</td>\n",
       "      <td>2020-01-01 01:00:00</td>\n",
       "      <td>0</td>\n",
       "      <td>1</td>\n",
       "      <td>3</td>\n",
       "      <td>1</td>\n",
       "      <td>366.98</td>\n",
       "      <td>360.98</td>\n",
       "      <td>412.31</td>\n",
       "      <td>379.47</td>\n",
       "      <td>...</td>\n",
       "      <td>0.333333</td>\n",
       "      <td>1893.677</td>\n",
       "      <td>0.0</td>\n",
       "      <td>514.389</td>\n",
       "      <td>12.0</td>\n",
       "      <td>1.9</td>\n",
       "      <td>-6.00</td>\n",
       "      <td>0</td>\n",
       "      <td>2020</td>\n",
       "      <td>1</td>\n",
       "    </tr>\n",
       "    <tr>\n",
       "      <th>1</th>\n",
       "      <td>2020-01-01</td>\n",
       "      <td>2020-01-01 02:00:00</td>\n",
       "      <td>0</td>\n",
       "      <td>1</td>\n",
       "      <td>3</td>\n",
       "      <td>2</td>\n",
       "      <td>341.85</td>\n",
       "      <td>360.74</td>\n",
       "      <td>369.05</td>\n",
       "      <td>373.72</td>\n",
       "      <td>...</td>\n",
       "      <td>0.666667</td>\n",
       "      <td>1816.833</td>\n",
       "      <td>0.0</td>\n",
       "      <td>500.955</td>\n",
       "      <td>12.0</td>\n",
       "      <td>1.9</td>\n",
       "      <td>18.89</td>\n",
       "      <td>1</td>\n",
       "      <td>2020</td>\n",
       "      <td>1</td>\n",
       "    </tr>\n",
       "    <tr>\n",
       "      <th>2</th>\n",
       "      <td>2020-01-01</td>\n",
       "      <td>2020-01-01 03:00:00</td>\n",
       "      <td>0</td>\n",
       "      <td>1</td>\n",
       "      <td>3</td>\n",
       "      <td>3</td>\n",
       "      <td>322.58</td>\n",
       "      <td>358.48</td>\n",
       "      <td>382.16</td>\n",
       "      <td>359.53</td>\n",
       "      <td>...</td>\n",
       "      <td>0.666667</td>\n",
       "      <td>1724.406</td>\n",
       "      <td>0.0</td>\n",
       "      <td>486.497</td>\n",
       "      <td>12.0</td>\n",
       "      <td>1.9</td>\n",
       "      <td>35.90</td>\n",
       "      <td>1</td>\n",
       "      <td>2020</td>\n",
       "      <td>1</td>\n",
       "    </tr>\n",
       "    <tr>\n",
       "      <th>3</th>\n",
       "      <td>2020-01-01</td>\n",
       "      <td>2020-01-01 04:00:00</td>\n",
       "      <td>0</td>\n",
       "      <td>1</td>\n",
       "      <td>3</td>\n",
       "      <td>4</td>\n",
       "      <td>310.62</td>\n",
       "      <td>344.90</td>\n",
       "      <td>342.09</td>\n",
       "      <td>340.69</td>\n",
       "      <td>...</td>\n",
       "      <td>0.666667</td>\n",
       "      <td>1625.519</td>\n",
       "      <td>0.0</td>\n",
       "      <td>472.968</td>\n",
       "      <td>12.0</td>\n",
       "      <td>1.9</td>\n",
       "      <td>34.28</td>\n",
       "      <td>1</td>\n",
       "      <td>2020</td>\n",
       "      <td>1</td>\n",
       "    </tr>\n",
       "    <tr>\n",
       "      <th>4</th>\n",
       "      <td>2020-01-01</td>\n",
       "      <td>2020-01-01 05:00:00</td>\n",
       "      <td>0</td>\n",
       "      <td>1</td>\n",
       "      <td>3</td>\n",
       "      <td>5</td>\n",
       "      <td>282.84</td>\n",
       "      <td>329.55</td>\n",
       "      <td>253.99</td>\n",
       "      <td>320.81</td>\n",
       "      <td>...</td>\n",
       "      <td>0.666667</td>\n",
       "      <td>1502.951</td>\n",
       "      <td>0.0</td>\n",
       "      <td>471.125</td>\n",
       "      <td>12.0</td>\n",
       "      <td>1.9</td>\n",
       "      <td>46.71</td>\n",
       "      <td>1</td>\n",
       "      <td>2020</td>\n",
       "      <td>1</td>\n",
       "    </tr>\n",
       "  </tbody>\n",
       "</table>\n",
       "<p>5 rows × 30 columns</p>\n",
       "</div>"
      ]
     },
     "execution_count": 78,
     "metadata": {},
     "output_type": "execute_result"
    }
   ],
   "source": [
    "DF_node_ts.head()"
   ]
  },
  {
   "cell_type": "code",
   "execution_count": 145,
   "id": "742f5a6b-d134-4ac4-a72f-fe239f889592",
   "metadata": {},
   "outputs": [],
   "source": [
    "#DF_node_ts.index = pd.to_datetime(DF_node_ts['fecha_h'], format='%Y-%m-%d-%h')"
   ]
  },
  {
   "cell_type": "markdown",
   "id": "5757e241-e735-4435-b6fc-8763ffdde9b1",
   "metadata": {},
   "source": [
    "# Visualizing PML"
   ]
  },
  {
   "cell_type": "code",
   "execution_count": 79,
   "id": "1c429c35-d92a-4eb4-8fc5-a17aafdc6821",
   "metadata": {},
   "outputs": [
    {
     "data": {
      "text/html": [
       "<pre style=\"white-space:pre;overflow-x:auto;line-height:normal;font-family:Menlo,'DejaVu Sans Mono',consolas,'Courier New',monospace\">\n",
       "<span style=\"font-weight: bold\">[</span>\n",
       "    <span style=\"font-weight: bold\">&lt;</span><span style=\"color: #ff00ff; text-decoration-color: #ff00ff; font-weight: bold\">matplotlib.lines.Line2D</span><span style=\"color: #000000; text-decoration-color: #000000\"> object at </span><span style=\"color: #008080; text-decoration-color: #008080; font-weight: bold\">0x000002318B3C8DF0</span><span style=\"font-weight: bold\">&gt;</span>,\n",
       "    <span style=\"font-weight: bold\">&lt;</span><span style=\"color: #ff00ff; text-decoration-color: #ff00ff; font-weight: bold\">matplotlib.lines.Line2D</span><span style=\"color: #000000; text-decoration-color: #000000\"> object at </span><span style=\"color: #008080; text-decoration-color: #008080; font-weight: bold\">0x000002318B3C8910</span><span style=\"font-weight: bold\">&gt;</span>\n",
       "<span style=\"font-weight: bold\">]</span>\n",
       "</pre>\n"
      ],
      "text/plain": [
       "\n",
       "\u001b[1m[\u001b[0m\n",
       "    \u001b[1m<\u001b[0m\u001b[1;95mmatplotlib.lines.Line2D\u001b[0m\u001b[39m object at \u001b[0m\u001b[1;36m0x000002318B3C8DF0\u001b[0m\u001b[1m>\u001b[0m,\n",
       "    \u001b[1m<\u001b[0m\u001b[1;95mmatplotlib.lines.Line2D\u001b[0m\u001b[39m object at \u001b[0m\u001b[1;36m0x000002318B3C8910\u001b[0m\u001b[1m>\u001b[0m\n",
       "\u001b[1m]\u001b[0m\n"
      ]
     },
     "metadata": {},
     "output_type": "display_data"
    },
    {
     "data": {
      "text/html": [
       "<pre style=\"white-space:pre;overflow-x:auto;line-height:normal;font-family:Menlo,'DejaVu Sans Mono',consolas,'Courier New',monospace\"><span style=\"font-weight: bold\">&lt;</span><span style=\"color: #ff00ff; text-decoration-color: #ff00ff; font-weight: bold\">Figure</span><span style=\"color: #000000; text-decoration-color: #000000\"> size 576x288 with </span><span style=\"color: #008080; text-decoration-color: #008080; font-weight: bold\">1</span><span style=\"color: #000000; text-decoration-color: #000000\"> Axes</span><span style=\"font-weight: bold\">&gt;</span>\n",
       "</pre>\n"
      ],
      "text/plain": [
       "\u001b[1m<\u001b[0m\u001b[1;95mFigure\u001b[0m\u001b[39m size 576x288 with \u001b[0m\u001b[1;36m1\u001b[0m\u001b[39m Axes\u001b[0m\u001b[1m>\u001b[0m\n"
      ]
     },
     "metadata": {},
     "output_type": "display_data"
    },
    {
     "data": {
      "image/png": "[encoded data removed]"
     },
     "metadata": {},
     "output_type": "display_data"
    }
   ],
   "source": [
    "sns.set()\n",
    "plt.ylabel('PML (MXN/MWh)')\n",
    "plt.xlabel('Date')\n",
    "plt.xticks(rotation=45)\n",
    "plt.plot(DF_node_ts.index,DF_node_ts['mda'], DF_node_ts['mtr'])"
   ]
  },
  {
   "cell_type": "markdown",
   "id": "148e8918-dd49-48fb-8a45-88a1cd4f0f03",
   "metadata": {},
   "source": [
    "# Splitting data"
   ]
  },
  {
   "cell_type": "code",
   "execution_count": 81,
   "id": "2ab0e08c-b399-4875-96d2-e0a3d587fc73",
   "metadata": {},
   "outputs": [
    {
     "data": {
      "text/html": [
       "<div>\n",
       "<style scoped>\n",
       "    .dataframe tbody tr th:only-of-type {\n",
       "        vertical-align: middle;\n",
       "    }\n",
       "\n",
       "    .dataframe tbody tr th {\n",
       "        vertical-align: top;\n",
       "    }\n",
       "\n",
       "    .dataframe thead th {\n",
       "        text-align: right;\n",
       "    }\n",
       "</style>\n",
       "<table border=\"1\" class=\"dataframe\">\n",
       "  <thead>\n",
       "    <tr style=\"text-align: right;\">\n",
       "      <th></th>\n",
       "      <th>fecha_h</th>\n",
       "      <th>mtr</th>\n",
       "    </tr>\n",
       "  </thead>\n",
       "  <tbody>\n",
       "    <tr>\n",
       "      <th>0</th>\n",
       "      <td>2020-01-01 01:00:00</td>\n",
       "      <td>360.98</td>\n",
       "    </tr>\n",
       "    <tr>\n",
       "      <th>1</th>\n",
       "      <td>2020-01-01 02:00:00</td>\n",
       "      <td>360.74</td>\n",
       "    </tr>\n",
       "    <tr>\n",
       "      <th>2</th>\n",
       "      <td>2020-01-01 03:00:00</td>\n",
       "      <td>358.48</td>\n",
       "    </tr>\n",
       "    <tr>\n",
       "      <th>3</th>\n",
       "      <td>2020-01-01 04:00:00</td>\n",
       "      <td>344.90</td>\n",
       "    </tr>\n",
       "    <tr>\n",
       "      <th>4</th>\n",
       "      <td>2020-01-01 05:00:00</td>\n",
       "      <td>329.55</td>\n",
       "    </tr>\n",
       "  </tbody>\n",
       "</table>\n",
       "</div>"
      ]
     },
     "execution_count": 81,
     "metadata": {},
     "output_type": "execute_result"
    }
   ],
   "source": [
    "DF_node_ts_MDA=pd.concat([DF_node_ts['fecha_h'],DF_node_ts['mda']],axis=1);DF_node_ts_MDA.head()\n",
    "DF_node_ts_MTR=pd.concat([DF_node_ts['fecha_h'],DF_node_ts['mtr']],axis=1);DF_node_ts_MTR.head()"
   ]
  },
  {
   "cell_type": "markdown",
   "id": "f2c2a68e-1346-4142-8e72-1c19bda13015",
   "metadata": {},
   "source": [
    "66% Training and 34% Testing"
   ]
  },
  {
   "cell_type": "code",
   "execution_count": 82,
   "id": "419d1d2c-c4cb-40b0-ab43-e031ef66d807",
   "metadata": {},
   "outputs": [
    {
     "data": {
      "text/html": [
       "<pre style=\"white-space:pre;overflow-x:auto;line-height:normal;font-family:Menlo,'DejaVu Sans Mono',consolas,'Courier New',monospace\"><span style=\"font-weight: bold\">&lt;</span><span style=\"color: #ff00ff; text-decoration-color: #ff00ff; font-weight: bold\">Figure</span><span style=\"color: #000000; text-decoration-color: #000000\"> size 576x288 with </span><span style=\"color: #008080; text-decoration-color: #008080; font-weight: bold\">1</span><span style=\"color: #000000; text-decoration-color: #000000\"> Axes</span><span style=\"font-weight: bold\">&gt;</span>\n",
       "</pre>\n"
      ],
      "text/plain": [
       "\u001b[1m<\u001b[0m\u001b[1;95mFigure\u001b[0m\u001b[39m size 576x288 with \u001b[0m\u001b[1;36m1\u001b[0m\u001b[39m Axes\u001b[0m\u001b[1m>\u001b[0m\n"
      ]
     },
     "metadata": {},
     "output_type": "display_data"
    },
    {
     "data": {
      "image/png": "[encoded data removed]"
     },
     "metadata": {},
     "output_type": "display_data"
    }
   ],
   "source": [
    "train_mda = DF_node_ts_MDA[DF_node_ts_MDA.index <= 13000]\n",
    "test_mda = DF_node_ts_MDA[DF_node_ts_MDA.index > 13000]\n",
    "\n",
    "plt.plot(train_mda['mda'], color = \"black\")\n",
    "plt.plot(test_mda['mda'], color = \"red\")\n",
    "plt.ylabel('PML MDA (MXN/MWh)')\n",
    "plt.xlabel('Date')\n",
    "plt.xticks(rotation=45)\n",
    "plt.title(\"Train/Test split for BTC Data\")\n",
    "plt.show()"
   ]
  },
  {
   "cell_type": "code",
   "execution_count": 83,
   "id": "61a26546-79fc-4379-ae77-d73db6580f93",
   "metadata": {},
   "outputs": [
    {
     "data": {
      "text/html": [
       "<pre style=\"white-space:pre;overflow-x:auto;line-height:normal;font-family:Menlo,'DejaVu Sans Mono',consolas,'Courier New',monospace\"><span style=\"font-weight: bold\">&lt;</span><span style=\"color: #ff00ff; text-decoration-color: #ff00ff; font-weight: bold\">Figure</span><span style=\"color: #000000; text-decoration-color: #000000\"> size 576x288 with </span><span style=\"color: #008080; text-decoration-color: #008080; font-weight: bold\">1</span><span style=\"color: #000000; text-decoration-color: #000000\"> Axes</span><span style=\"font-weight: bold\">&gt;</span>\n",
       "</pre>\n"
      ],
      "text/plain": [
       "\u001b[1m<\u001b[0m\u001b[1;95mFigure\u001b[0m\u001b[39m size 576x288 with \u001b[0m\u001b[1;36m1\u001b[0m\u001b[39m Axes\u001b[0m\u001b[1m>\u001b[0m\n"
      ]
     },
     "metadata": {},
     "output_type": "display_data"
    },
    {
     "data": {
      "image/png": "[encoded data removed]"
     },
     "metadata": {},
     "output_type": "display_data"
    }
   ],
   "source": [
    "train_mtr = DF_node_ts_MTR[DF_node_ts_MTR.index <= 13000]\n",
    "test_mtr = DF_node_ts_MTR[DF_node_ts_MTR.index > 13000]\n",
    "\n",
    "plt.plot(train_mtr['mtr'], color = \"black\")\n",
    "plt.plot(test_mtr['mtr'], color = \"red\")\n",
    "plt.ylabel('PML MTR (MXN/MWh)')\n",
    "plt.xlabel('Date')\n",
    "plt.xticks(rotation=45)\n",
    "plt.title(\"Train/Test split for BTC Data\")\n",
    "plt.show()"
   ]
  },
  {
   "cell_type": "markdown",
   "id": "4ce96f55-d9e0-4f43-bd8f-c631ef5e26e6",
   "metadata": {},
   "source": [
    "# Autoregressive Moving Average (ARMA) for MDA"
   ]
  },
  {
   "cell_type": "code",
   "execution_count": 112,
   "id": "9eafe3cd-2bd6-4d7c-bd69-5b69014d335b",
   "metadata": {},
   "outputs": [],
   "source": [
    "from statsmodels.tsa.statespace.sarimax import SARIMAX"
   ]
  },
  {
   "cell_type": "code",
   "execution_count": 113,
   "id": "6cff3b88-1ace-4606-99a3-a8c1bb25736d",
   "metadata": {},
   "outputs": [
    {
     "data": {
      "text/html": [
       "<pre style=\"white-space:pre;overflow-x:auto;line-height:normal;font-family:Menlo,'DejaVu Sans Mono',consolas,'Courier New',monospace\">\n",
       "<span style=\"color: #008080; text-decoration-color: #008080; font-weight: bold\">0</span>        <span style=\"color: #008080; text-decoration-color: #008080; font-weight: bold\">366.98</span>\n",
       "<span style=\"color: #008080; text-decoration-color: #008080; font-weight: bold\">1</span>        <span style=\"color: #008080; text-decoration-color: #008080; font-weight: bold\">341.85</span>\n",
       "<span style=\"color: #008080; text-decoration-color: #008080; font-weight: bold\">2</span>        <span style=\"color: #008080; text-decoration-color: #008080; font-weight: bold\">322.58</span>\n",
       "<span style=\"color: #008080; text-decoration-color: #008080; font-weight: bold\">3</span>        <span style=\"color: #008080; text-decoration-color: #008080; font-weight: bold\">310.62</span>\n",
       "<span style=\"color: #008080; text-decoration-color: #008080; font-weight: bold\">4</span>        <span style=\"color: #008080; text-decoration-color: #008080; font-weight: bold\">282.84</span>\n",
       "          <span style=\"color: #808000; text-decoration-color: #808000\">...</span>  \n",
       "<span style=\"color: #008080; text-decoration-color: #008080; font-weight: bold\">12996</span>    <span style=\"color: #008080; text-decoration-color: #008080; font-weight: bold\">804.05</span>\n",
       "<span style=\"color: #008080; text-decoration-color: #008080; font-weight: bold\">12997</span>    <span style=\"color: #008080; text-decoration-color: #008080; font-weight: bold\">948.34</span>\n",
       "<span style=\"color: #008080; text-decoration-color: #008080; font-weight: bold\">12998</span>    <span style=\"color: #008080; text-decoration-color: #008080; font-weight: bold\">764.53</span>\n",
       "<span style=\"color: #008080; text-decoration-color: #008080; font-weight: bold\">12999</span>    <span style=\"color: #008080; text-decoration-color: #008080; font-weight: bold\">794.79</span>\n",
       "<span style=\"color: #008080; text-decoration-color: #008080; font-weight: bold\">13000</span>    <span style=\"color: #008080; text-decoration-color: #008080; font-weight: bold\">769.63</span>\n",
       "Name: mda, Length: <span style=\"color: #008080; text-decoration-color: #008080; font-weight: bold\">12725</span>, dtype: float64\n",
       "</pre>\n"
      ],
      "text/plain": [
       "\n",
       "\u001b[1;36m0\u001b[0m        \u001b[1;36m366.98\u001b[0m\n",
       "\u001b[1;36m1\u001b[0m        \u001b[1;36m341.85\u001b[0m\n",
       "\u001b[1;36m2\u001b[0m        \u001b[1;36m322.58\u001b[0m\n",
       "\u001b[1;36m3\u001b[0m        \u001b[1;36m310.62\u001b[0m\n",
       "\u001b[1;36m4\u001b[0m        \u001b[1;36m282.84\u001b[0m\n",
       "          \u001b[33m...\u001b[0m  \n",
       "\u001b[1;36m12996\u001b[0m    \u001b[1;36m804.05\u001b[0m\n",
       "\u001b[1;36m12997\u001b[0m    \u001b[1;36m948.34\u001b[0m\n",
       "\u001b[1;36m12998\u001b[0m    \u001b[1;36m764.53\u001b[0m\n",
       "\u001b[1;36m12999\u001b[0m    \u001b[1;36m794.79\u001b[0m\n",
       "\u001b[1;36m13000\u001b[0m    \u001b[1;36m769.63\u001b[0m\n",
       "Name: mda, Length: \u001b[1;36m12725\u001b[0m, dtype: float64\n"
      ]
     },
     "metadata": {},
     "output_type": "display_data"
    }
   ],
   "source": [
    "y = train_mda['mda'];y"
   ]
  },
  {
   "cell_type": "code",
   "execution_count": 114,
   "id": "e249207d-399f-4cb2-925f-812db5090934",
   "metadata": {},
   "outputs": [
    {
     "name": "stderr",
     "output_type": "stream",
     "text": [
      "An unsupported index was provided and will be ignored when e.g. forecasting.\n",
      "An unsupported index was provided and will be ignored when e.g. forecasting.\n",
      "No supported index is available. Prediction results will be given with an integer index beginning at `start`.\n",
      "No supported index is available. Prediction results will be given with an integer index beginning at `start`.\n"
     ]
    }
   ],
   "source": [
    "ARMAmodel = SARIMAX(y, order = (1, 0, 1))\n",
    "ARMAmodel = ARMAmodel.fit()\n",
    "\n",
    "y_pred = ARMAmodel.get_forecast(len(test_mda['mda'].index))\n",
    "y_pred_df = y_pred.conf_int(alpha = 0.05) \n",
    "y_pred_df[\"Predictions\"] = ARMAmodel.predict(start = y_pred_df.index[0], end = y_pred_df.index[-1])\n",
    "y_pred_df.index = test_mda['mda'].index\n",
    "y_pred_out = y_pred_df[\"Predictions\"] "
   ]
  },
  {
   "cell_type": "code",
   "execution_count": 115,
   "id": "ec59d003-73d7-4ce0-976e-9a8b437cdfe4",
   "metadata": {},
   "outputs": [
    {
     "data": {
      "text/html": [
       "<pre style=\"white-space:pre;overflow-x:auto;line-height:normal;font-family:Menlo,'DejaVu Sans Mono',consolas,'Courier New',monospace\"><span style=\"font-weight: bold\">&lt;</span><span style=\"color: #ff00ff; text-decoration-color: #ff00ff; font-weight: bold\">Figure</span><span style=\"color: #000000; text-decoration-color: #000000\"> size 576x288 with </span><span style=\"color: #008080; text-decoration-color: #008080; font-weight: bold\">1</span><span style=\"color: #000000; text-decoration-color: #000000\"> Axes</span><span style=\"font-weight: bold\">&gt;</span>\n",
       "</pre>\n"
      ],
      "text/plain": [
       "\u001b[1m<\u001b[0m\u001b[1;95mFigure\u001b[0m\u001b[39m size 576x288 with \u001b[0m\u001b[1;36m1\u001b[0m\u001b[39m Axes\u001b[0m\u001b[1m>\u001b[0m\n"
      ]
     },
     "metadata": {},
     "output_type": "display_data"
    },
    {
     "data": {
      "image/png": "[encoded data removed]"
     },
     "metadata": {},
     "output_type": "display_data"
    }
   ],
   "source": [
    "plt.plot(train_mda['mda'], color = \"black\")\n",
    "plt.plot(test_mda['mda'], color = \"red\")\n",
    "plt.plot(y_pred_out, color='green', label = 'Predictions')\n",
    "plt.ylabel('PML MDA (MXN/MWh)')\n",
    "plt.xlabel('Date')\n",
    "plt.xticks(rotation=45)\n",
    "plt.title(\"Train/Test and Predictions\")\n",
    "plt.show()"
   ]
  },
  {
   "cell_type": "code",
   "execution_count": 116,
   "id": "ad002539-6831-46db-9093-e8774dc8ec60",
   "metadata": {},
   "outputs": [
    {
     "name": "stdout",
     "output_type": "stream",
     "text": [
      "RMSE:  977.5672957294713\n"
     ]
    }
   ],
   "source": [
    "import numpy as np\n",
    "from sklearn.metrics import mean_squared_error\n",
    "\n",
    "arma_rmse = np.sqrt(mean_squared_error(test_mda['mda'].values, y_pred_df[\"Predictions\"]))\n",
    "print(\"RMSE: \",arma_rmse)"
   ]
  },
  {
   "cell_type": "markdown",
   "id": "f28caaa5-e7b7-4852-8bc3-861de49dd00c",
   "metadata": {},
   "source": [
    "# Autoregressive Integrated Moving Average (ARIMA) for MDA"
   ]
  },
  {
   "cell_type": "code",
   "execution_count": 117,
   "id": "dda604ff-01a5-4b56-8cd3-474575387ad7",
   "metadata": {},
   "outputs": [],
   "source": [
    "from statsmodels.tsa.arima.model import ARIMA"
   ]
  },
  {
   "cell_type": "code",
   "execution_count": 118,
   "id": "4967e556-09de-400b-b88e-c79dc4e0f01b",
   "metadata": {},
   "outputs": [
    {
     "name": "stderr",
     "output_type": "stream",
     "text": [
      "An unsupported index was provided and will be ignored when e.g. forecasting.\n",
      "An unsupported index was provided and will be ignored when e.g. forecasting.\n",
      "An unsupported index was provided and will be ignored when e.g. forecasting.\n",
      "Non-stationary starting autoregressive parameters found. Using zeros as starting parameters.\n",
      "Non-invertible starting MA parameters found. Using zeros as starting parameters.\n",
      "No supported index is available. Prediction results will be given with an integer index beginning at `start`.\n",
      "No supported index is available. Prediction results will be given with an integer index beginning at `start`.\n"
     ]
    }
   ],
   "source": [
    "ARIMAmodel = ARIMA(y, order = (2, 2, 2))\n",
    "ARIMAmodel = ARIMAmodel.fit()\n",
    "\n",
    "y_pred = ARIMAmodel.get_forecast(len(test_mda['mda'].index))\n",
    "y_pred_df = y_pred.conf_int(alpha = 0.05) \n",
    "y_pred_df[\"Predictions\"] = ARIMAmodel.predict(start = y_pred_df.index[0], end = y_pred_df.index[-1])\n",
    "y_pred_df.index = test_mda['mda'].index\n",
    "y_pred_out = y_pred_df[\"Predictions\"] "
   ]
  },
  {
   "cell_type": "code",
   "execution_count": 119,
   "id": "8d75d661-e1de-43a9-bee1-97e002288419",
   "metadata": {},
   "outputs": [
    {
     "data": {
      "text/html": [
       "<pre style=\"white-space:pre;overflow-x:auto;line-height:normal;font-family:Menlo,'DejaVu Sans Mono',consolas,'Courier New',monospace\"><span style=\"font-weight: bold\">&lt;</span><span style=\"color: #ff00ff; text-decoration-color: #ff00ff; font-weight: bold\">Figure</span><span style=\"color: #000000; text-decoration-color: #000000\"> size 576x288 with </span><span style=\"color: #008080; text-decoration-color: #008080; font-weight: bold\">1</span><span style=\"color: #000000; text-decoration-color: #000000\"> Axes</span><span style=\"font-weight: bold\">&gt;</span>\n",
       "</pre>\n"
      ],
      "text/plain": [
       "\u001b[1m<\u001b[0m\u001b[1;95mFigure\u001b[0m\u001b[39m size 576x288 with \u001b[0m\u001b[1;36m1\u001b[0m\u001b[39m Axes\u001b[0m\u001b[1m>\u001b[0m\n"
      ]
     },
     "metadata": {},
     "output_type": "display_data"
    },
    {
     "data": {
      "image/png": "[encoded data removed]"
     },
     "metadata": {},
     "output_type": "display_data"
    }
   ],
   "source": [
    "plt.plot(train_mda['mda'], color = \"black\")\n",
    "plt.plot(test_mda['mda'], color = \"red\")\n",
    "plt.plot(y_pred_out, color='green', label = 'Predictions')\n",
    "plt.ylabel('PML MDA (MXN/MWh)')\n",
    "plt.xlabel('Date')\n",
    "plt.xticks(rotation=45)\n",
    "plt.title(\"Train/Test and Predictions\")\n",
    "plt.show()"
   ]
  },
  {
   "cell_type": "code",
   "execution_count": 120,
   "id": "af66f423-5a68-480d-b2f9-1f08c843cee9",
   "metadata": {},
   "outputs": [
    {
     "name": "stdout",
     "output_type": "stream",
     "text": [
      "RMSE:  268.9025686131009\n"
     ]
    }
   ],
   "source": [
    "import numpy as np\n",
    "from sklearn.metrics import mean_squared_error\n",
    "\n",
    "arma_rmse = np.sqrt(mean_squared_error(test_mda['mda'].values, y_pred_df[\"Predictions\"]))\n",
    "print(\"RMSE: \",arma_rmse)"
   ]
  },
  {
   "cell_type": "markdown",
   "id": "36b00309-ad59-4c6c-852f-4e4e6d45caa8",
   "metadata": {},
   "source": [
    "# Seasonal ARIMA (SARIMA) for MDA"
   ]
  },
  {
   "cell_type": "code",
   "execution_count": 123,
   "id": "82f2d687-b655-4178-9de3-98a7bec39ee7",
   "metadata": {},
   "outputs": [
    {
     "name": "stderr",
     "output_type": "stream",
     "text": [
      "An unsupported index was provided and will be ignored when e.g. forecasting.\n",
      "An unsupported index was provided and will be ignored when e.g. forecasting.\n",
      "Non-stationary starting autoregressive parameters found. Using zeros as starting parameters.\n",
      "Non-invertible starting seasonal moving average Using zeros as starting parameters.\n",
      "Maximum Likelihood optimization failed to converge. Check mle_retvals\n",
      "No supported index is available. Prediction results will be given with an integer index beginning at `start`.\n",
      "No supported index is available. Prediction results will be given with an integer index beginning at `start`.\n"
     ]
    }
   ],
   "source": [
    "SARIMAXmodel = SARIMAX(y, order = (5, 4, 2), seasonal_order=(0, 2, 3, 4))\n",
    "SARIMAXmodel = SARIMAXmodel.fit()\n",
    "\n",
    "y_pred = SARIMAXmodel.get_forecast(len(test_mda['mda'].index))\n",
    "y_pred_df = y_pred.conf_int(alpha = 0.05) \n",
    "y_pred_df[\"Predictions\"] = SARIMAXmodel.predict(start = y_pred_df.index[0], end = y_pred_df.index[-1])\n",
    "y_pred_df.index = test_mda['mda'].index\n",
    "y_pred_out = y_pred_df[\"Predictions\"] "
   ]
  },
  {
   "cell_type": "code",
   "execution_count": null,
   "id": "b6a50ce1-5ce3-4786-9c9c-bda836377f8d",
   "metadata": {},
   "outputs": [],
   "source": [
    "plt.plot(train_mda['mda'], color = \"black\")\n",
    "plt.plot(test_mda['mda'], color = \"red\")\n",
    "plt.plot(y_pred_out, color='green', label = 'Predictions')\n",
    "plt.ylabel('PML MDA (MXN/MWh)')\n",
    "plt.xlabel('Date')\n",
    "plt.xticks(rotation=45)\n",
    "plt.title(\"Train/Test and Predictions\")\n",
    "plt.show()"
   ]
  },
  {
   "cell_type": "code",
   "execution_count": null,
   "id": "c3ef0333-05dd-43e4-890a-ee8ff5b0d06f",
   "metadata": {},
   "outputs": [],
   "source": []
  }
 ],
 "metadata": {
  "kernelspec": {
   "display_name": "Python 3",
   "language": "python",
   "name": "python3"
  },
  "language_info": {
   "codemirror_mode": {
    "name": "ipython",
    "version": 3
   },
   "file_extension": ".py",
   "mimetype": "text/x-python",
   "name": "python",
   "nbconvert_exporter": "python",
   "pygments_lexer": "ipython3",
   "version": "3.8.8"
  }
 },
 "nbformat": 4,
 "nbformat_minor": 5
}
