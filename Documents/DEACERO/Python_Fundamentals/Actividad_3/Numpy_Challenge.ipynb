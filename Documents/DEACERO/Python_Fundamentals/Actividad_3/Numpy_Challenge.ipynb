{
 "cells": [
  {
   "cell_type": "code",
   "execution_count": 9,
   "id": "00e49b62",
   "metadata": {},
   "outputs": [],
   "source": [
    "import numpy as np"
   ]
  },
  {
   "cell_type": "code",
   "execution_count": 21,
   "id": "a715d12a",
   "metadata": {},
   "outputs": [],
   "source": [
    "edad_pao=range(3,25)"
   ]
  },
  {
   "cell_type": "code",
   "execution_count": 22,
   "id": "60fb70cc",
   "metadata": {},
   "outputs": [
    {
     "data": {
      "text/plain": [
       "range(3, 25)"
      ]
     },
     "execution_count": 22,
     "metadata": {},
     "output_type": "execute_result"
    }
   ],
   "source": [
    "edad_pao"
   ]
  },
  {
   "cell_type": "code",
   "execution_count": 23,
   "id": "dd936ec9",
   "metadata": {},
   "outputs": [
    {
     "data": {
      "text/plain": [
       "[3,\n",
       " 4,\n",
       " 5,\n",
       " 6,\n",
       " 7,\n",
       " 8,\n",
       " 9,\n",
       " 10,\n",
       " 11,\n",
       " 12,\n",
       " 13,\n",
       " 14,\n",
       " 15,\n",
       " 16,\n",
       " 17,\n",
       " 18,\n",
       " 19,\n",
       " 20,\n",
       " 21,\n",
       " 22,\n",
       " 23,\n",
       " 24]"
      ]
     },
     "execution_count": 23,
     "metadata": {},
     "output_type": "execute_result"
    }
   ],
   "source": [
    "list(edad_pao)"
   ]
  },
  {
   "cell_type": "code",
   "execution_count": 14,
   "id": "fde107b6",
   "metadata": {},
   "outputs": [],
   "source": [
    "arreglo=[0,1,2,3,4,0,1,2,3,4]"
   ]
  },
  {
   "cell_type": "code",
   "execution_count": 15,
   "id": "cbde8c7e",
   "metadata": {},
   "outputs": [],
   "source": [
    "arreglo_1=np.array(arreglo)"
   ]
  },
  {
   "cell_type": "code",
   "execution_count": 16,
   "id": "f162bbc2",
   "metadata": {},
   "outputs": [
    {
     "data": {
      "text/plain": [
       "array([0, 1, 2, 3, 4, 0, 1, 2, 3, 4])"
      ]
     },
     "execution_count": 16,
     "metadata": {},
     "output_type": "execute_result"
    }
   ],
   "source": [
    "arreglo_1"
   ]
  },
  {
   "cell_type": "code",
   "execution_count": 17,
   "id": "bf3f9730",
   "metadata": {},
   "outputs": [
    {
     "data": {
      "text/plain": [
       "array([0, 0, 1, 1, 2, 2, 3, 3, 4, 4])"
      ]
     },
     "execution_count": 17,
     "metadata": {},
     "output_type": "execute_result"
    }
   ],
   "source": [
    "np.sort(arreglo_1)"
   ]
  },
  {
   "cell_type": "code",
   "execution_count": null,
   "id": "2cce15ee",
   "metadata": {},
   "outputs": [],
   "source": []
  }
 ],
 "metadata": {
  "kernelspec": {
   "display_name": "Python 3",
   "language": "python",
   "name": "python3"
  },
  "language_info": {
   "codemirror_mode": {
    "name": "ipython",
    "version": 3
   },
   "file_extension": ".py",
   "mimetype": "text/x-python",
   "name": "python",
   "nbconvert_exporter": "python",
   "pygments_lexer": "ipython3",
   "version": "3.8.8"
  }
 },
 "nbformat": 4,
 "nbformat_minor": 5
}
